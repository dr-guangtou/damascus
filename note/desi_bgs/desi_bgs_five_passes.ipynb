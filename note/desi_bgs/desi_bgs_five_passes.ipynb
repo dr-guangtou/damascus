{
 "cells": [
  {
   "cell_type": "code",
   "execution_count": 1,
   "id": "a7214531-7a2d-4ff0-a832-447b56344329",
   "metadata": {},
   "outputs": [],
   "source": [
    "%matplotlib inline\n",
    "%load_ext autoreload\n",
    "%autoreload 2\n",
    "\n",
    "import os\n",
    "import sys\n",
    "import copy\n",
    "\n",
    "import numpy as np\n",
    "from scipy import ndimage\n",
    "from scipy.spatial import cKDTree\n",
    "\n",
    "import astropy.units as u\n",
    "from astropy import wcs\n",
    "from astropy.io import fits\n",
    "from astropy.table import Table, Column, vstack\n",
    "from astropy.coordinates import SkyCoord\n",
    "\n",
    "import matplotlib.pyplot as plt\n",
    "from matplotlib import colors\n",
    "from matplotlib import gridspec"
   ]
  },
  {
   "cell_type": "markdown",
   "id": "1a1be6b0-35b3-4650-9511-d9594b071364",
   "metadata": {},
   "source": [
    "# Preparing for BGS Y4-6 Prediction\n",
    "\n",
    "- Checking Anand Raichoor's `fiberassign` files\n",
    "- Checking the completeness of the BGS targets"
   ]
  },
  {
   "cell_type": "code",
   "execution_count": 4,
   "id": "d4197060-00be-4da1-9bd1-cc16c0e88f7d",
   "metadata": {},
   "outputs": [],
   "source": [
    "loc = '/Users/song/galaxy/desi/fiberassign'\n",
    "\n",
    "sgc_cat = Table.read(os.path.join(loc, 'bright-sgc/targ-after-pass5.fits'))"
   ]
  },
  {
   "cell_type": "code",
   "execution_count": 6,
   "id": "3ed26f5f-e175-485d-a3b2-5e28c23cb239",
   "metadata": {},
   "outputs": [
    {
     "name": "stdout",
     "output_type": "stream",
     "text": [
      "['RA', 'DEC', 'TARGETID', 'DESI_TARGET', 'BGS_TARGET', 'MWS_TARGET', 'SUBPRIORITY', 'OBSCONDITIONS', 'PRIORITY_INIT', 'NUMOBS_INIT', 'SCND_TARGET', 'NFIBER_AVAIL', 'NTILE_AVAIL', 'NUMOBS_DONE', 'ISRADEC_SAFE', 'NUMOBS_MORE', 'NUMOBS', 'Z', 'ZWARN', 'ZTILEID', 'Z_QN', 'IS_QSO_QN', 'DELTACHI2', 'TARGET_STATE', 'TIMESTAMP', 'VERSION', 'PRIORITY']\n"
     ]
    }
   ],
   "source": [
    "print(sgc_cat.colnames)"
   ]
  },
  {
   "cell_type": "code",
   "execution_count": 11,
   "id": "5b91c887-5fc7-47d9-ac9d-2bcae240b346",
   "metadata": {},
   "outputs": [
    {
     "name": "stdout",
     "output_type": "stream",
     "text": [
      "6320104\n"
     ]
    }
   ],
   "source": [
    "# BGS in SGC\n",
    "sgc_bgs = sgc_cat[sgc_cat['BGS_TARGET'] > 0]\n",
    "\n",
    "print(len(sgc_bgs))"
   ]
  },
  {
   "cell_type": "code",
   "execution_count": 33,
   "id": "b7b52bbb-7899-4cf4-bf60-f28772c65174",
   "metadata": {},
   "outputs": [
    {
     "name": "stdout",
     "output_type": "stream",
     "text": [
      "14187580\n"
     ]
    }
   ],
   "source": [
    "# BGS in NGC\n",
    "ngc_cat = Table.read(os.path.join(loc, 'bright-ngc/targ-after-pass5.fits'))\n",
    "\n",
    "ngc_bgs = ngc_cat[ngc_cat['BGS_TARGET'] > 0]\n",
    "\n",
    "print(len(ngc_bgs))"
   ]
  },
  {
   "cell_type": "code",
   "execution_count": 43,
   "id": "4371c3d5-7063-488c-8e68-0ed3785a5695",
   "metadata": {},
   "outputs": [
    {
     "name": "stdout",
     "output_type": "stream",
     "text": [
      "20507684\n"
     ]
    },
    {
     "name": "stderr",
     "output_type": "stream",
     "text": [
      "WARNING: MergeConflictWarning: Cannot merge meta key 'RADEC' types <class 'str'> and <class 'str'>, choosing RADEC='300,85,-90,90' [astropy.utils.metadata]\n",
      "WARNING: MergeConflictWarning: Cannot merge meta key 'AREATILE' types <class 'float'> and <class 'float'>, choosing AREATILE=4659.0 [astropy.utils.metadata]\n",
      "WARNING: MergeConflictWarning: Cannot merge meta key 'AREASAFE' types <class 'float'> and <class 'float'>, choosing AREASAFE=4659.0 [astropy.utils.metadata]\n",
      "WARNING: MergeConflictWarning: Cannot merge meta key 'PRIOMASK' types <class 'astropy.io.fits.card.Undefined'> and <class 'astropy.io.fits.card.Undefined'>, choosing PRIOMASK=<astropy.io.fits.card.Undefined object at 0x12a11edc0> [astropy.utils.metadata]\n",
      "WARNING: MergeConflictWarning: Cannot merge meta key 'PRIOFRAC' types <class 'astropy.io.fits.card.Undefined'> and <class 'astropy.io.fits.card.Undefined'>, choosing PRIOFRAC=<astropy.io.fits.card.Undefined object at 0x12a11edc0> [astropy.utils.metadata]\n",
      "WARNING: MergeConflictWarning: Cannot merge meta key 'PRIONEW' types <class 'astropy.io.fits.card.Undefined'> and <class 'astropy.io.fits.card.Undefined'>, choosing PRIONEW=<astropy.io.fits.card.Undefined object at 0x12a11edc0> [astropy.utils.metadata]\n",
      "WARNING: MergeConflictWarning: Cannot merge meta key 'NUMINIT' types <class 'astropy.io.fits.card.Undefined'> and <class 'astropy.io.fits.card.Undefined'>, choosing NUMINIT=<astropy.io.fits.card.Undefined object at 0x12a11edc0> [astropy.utils.metadata]\n",
      "WARNING: MergeConflictWarning: Cannot merge meta key 'NUMINITQ' types <class 'astropy.io.fits.card.Undefined'> and <class 'astropy.io.fits.card.Undefined'>, choosing NUMINITQ=<astropy.io.fits.card.Undefined object at 0x12a11edc0> [astropy.utils.metadata]\n"
     ]
    }
   ],
   "source": [
    "bgs_cat = vstack([ngc_bgs, sgc_bgs])\n",
    "\n",
    "print(len(bgs_cat))"
   ]
  },
  {
   "cell_type": "code",
   "execution_count": 44,
   "id": "d673c2f2-b36b-4e01-8f0b-39628c6d1ae4",
   "metadata": {},
   "outputs": [
    {
     "data": {
      "text/html": [
       "<i>Row index=1</i>\n",
       "<table id=\"table5364004416\">\n",
       "<thead><tr><th>RA</th><th>DEC</th><th>TARGETID</th><th>DESI_TARGET</th><th>BGS_TARGET</th><th>MWS_TARGET</th><th>SUBPRIORITY</th><th>OBSCONDITIONS</th><th>PRIORITY_INIT</th><th>NUMOBS_INIT</th><th>SCND_TARGET</th><th>NFIBER_AVAIL</th><th>NTILE_AVAIL</th><th>NUMOBS_DONE</th><th>ISRADEC_SAFE</th><th>NUMOBS_MORE</th><th>NUMOBS</th><th>Z</th><th>ZWARN</th><th>ZTILEID</th><th>Z_QN</th><th>IS_QSO_QN</th><th>DELTACHI2</th><th>TARGET_STATE</th><th>TIMESTAMP</th><th>VERSION</th><th>PRIORITY</th></tr></thead>\n",
       "<thead><tr><th>float64</th><th>float64</th><th>int64</th><th>int64</th><th>int64</th><th>int64</th><th>float64</th><th>int32</th><th>int64</th><th>int64</th><th>int64</th><th>int64[6]</th><th>int64[6]</th><th>int64[6]</th><th>bool</th><th>int64</th><th>int64</th><th>float64</th><th>int64</th><th>int32</th><th>float64</th><th>int16</th><th>float64</th><th>bytes30</th><th>bytes25</th><th>bytes14</th><th>int64</th></tr></thead>\n",
       "<tr><td>129.94478196513236</td><td>4.337557713578675</td><td>39627889548722586</td><td>1152921504606846976</td><td>131074</td><td>0</td><td>0.8308635630938688</td><td>516</td><td>2100</td><td>2</td><td>0</td><td>0 .. 0</td><td>0 .. 0</td><td>0 .. 0</td><td>True</td><td>0</td><td>1</td><td>-1.0</td><td>0</td><td>1</td><td>-1.0</td><td>-1</td><td>-1.0</td><td>BGS_BRIGHT|MORE_ZGOOD</td><td>2022-05-16T08:10:02+00:00</td><td>2.5.0</td><td>2</td></tr>\n",
       "</table>"
      ],
      "text/plain": [
       "<Row index=1>\n",
       "        RA                DEC             TARGETID         DESI_TARGET     BGS_TARGET MWS_TARGET    SUBPRIORITY     OBSCONDITIONS PRIORITY_INIT NUMOBS_INIT SCND_TARGET NFIBER_AVAIL NTILE_AVAIL NUMOBS_DONE ISRADEC_SAFE NUMOBS_MORE NUMOBS    Z    ZWARN ZTILEID   Z_QN  IS_QSO_QN DELTACHI2      TARGET_STATE             TIMESTAMP         VERSION PRIORITY\n",
       "     float64            float64            int64              int64          int64      int64         float64           int32         int64        int64       int64      int64[6]     int64[6]    int64[6]      bool        int64    int64  float64 int64  int32  float64   int16    float64         bytes30                 bytes25          bytes14  int64  \n",
       "------------------ ----------------- ----------------- ------------------- ---------- ---------- ------------------ ------------- ------------- ----------- ----------- ------------ ----------- ----------- ------------ ----------- ------ ------- ----- ------- ------- --------- --------- --------------------- ------------------------- ------- --------\n",
       "129.94478196513236 4.337557713578675 39627889548722586 1152921504606846976     131074          0 0.8308635630938688           516          2100           2           0       0 .. 0      0 .. 0      0 .. 0         True           0      1    -1.0     0       1    -1.0        -1      -1.0 BGS_BRIGHT|MORE_ZGOOD 2022-05-16T08:10:02+00:00   2.5.0        2"
      ]
     },
     "execution_count": 44,
     "metadata": {},
     "output_type": "execute_result"
    }
   ],
   "source": [
    "bgs_cat[1]"
   ]
  },
  {
   "cell_type": "markdown",
   "id": "736f56a4-a001-489e-895d-a42344d5e08f",
   "metadata": {},
   "source": [
    "- `BGS_TARGET` bitmasks:\n",
    "    - `1`: `BGS_FAINT`\n",
    "    - `2`: `BGS_BRIGHT`"
   ]
  },
  {
   "cell_type": "code",
   "execution_count": 54,
   "id": "b8f382cd-0f3f-49cc-ae6d-577dca1fa9b9",
   "metadata": {},
   "outputs": [
    {
     "name": "stdout",
     "output_type": "stream",
     "text": [
      "12656074 7806053\n"
     ]
    }
   ],
   "source": [
    "bgs_bright = bgs_cat[(bgs_cat[\"BGS_TARGET\"] & 2) != 0]\n",
    "bgs_faint = bgs_cat[(bgs_cat[\"BGS_TARGET\"] & 1) != 0]\n",
    "\n",
    "print(len(bgs_bright), len(bgs_faint))"
   ]
  },
  {
   "cell_type": "code",
   "execution_count": 56,
   "id": "6b8a07e6-76ab-4dad-b792-f333d06dc7e7",
   "metadata": {},
   "outputs": [],
   "source": [
    "area = 14861.0 # deg^2"
   ]
  },
  {
   "cell_type": "code",
   "execution_count": 65,
   "id": "94de5e29-5ae9-402d-8edb-29f3e36d5152",
   "metadata": {},
   "outputs": [
    {
     "name": "stdout",
     "output_type": "stream",
     "text": [
      "0.2861090255951411\n",
      "0.5084110601755331\n",
      "0.6710901026653289\n",
      "0.7864212867276219\n",
      "0.8612050624862023\n",
      "0.9095186232318174\n"
     ]
    }
   ],
   "source": [
    "# After Pass 1\n",
    "bgs_bright_pass1 = bgs_bright['NUMOBS_DONE'][:, 0:1].sum(axis=1)\n",
    "print((bgs_bright_pass1 > 0).sum() / len(bgs_bright_pass1))\n",
    "\n",
    "# After Pass 2\n",
    "bgs_bright_pass2 = bgs_bright['NUMOBS_DONE'][:, 0:2].sum(axis=1)\n",
    "print((bgs_bright_pass2 > 0).sum() / len(bgs_bright_pass2))\n",
    "\n",
    "# After Pass 3\n",
    "bgs_bright_pass3 = bgs_bright['NUMOBS_DONE'][:, 0:3].sum(axis=1)\n",
    "print((bgs_bright_pass3 > 0).sum() / len(bgs_bright_pass3))\n",
    "\n",
    "# After Pass 4\n",
    "bgs_bright_pass4 = bgs_bright['NUMOBS_DONE'][:, 0:4].sum(axis=1)\n",
    "print((bgs_bright_pass4 > 0).sum() / len(bgs_bright_pass4))\n",
    "\n",
    "# After Pass 5\n",
    "bgs_bright_pass5 = bgs_bright['NUMOBS_DONE'][:, 0:5].sum(axis=1)\n",
    "print((bgs_bright_pass5 > 0).sum() / len(bgs_bright_pass5))\n",
    "\n",
    "# After Pass 6\n",
    "bgs_bright_pass6 = bgs_bright['NUMOBS_DONE'][:, 0:6].sum(axis=1)\n",
    "print((bgs_bright_pass6 > 0).sum() / len(bgs_bright_pass6))"
   ]
  },
  {
   "cell_type": "code",
   "execution_count": 66,
   "id": "ebbf2af7-d11c-4309-abc2-518cab9a614f",
   "metadata": {},
   "outputs": [
    {
     "name": "stdout",
     "output_type": "stream",
     "text": [
      "0.14809443389636223\n",
      "0.30674196037357165\n",
      "0.4621377794898395\n",
      "0.6003922853201227\n",
      "0.7123512996901251\n",
      "0.7976510023695714\n"
     ]
    }
   ],
   "source": [
    "# After Pass 1\n",
    "bgs_faint_pass1 = bgs_faint['NUMOBS_DONE'][:, 0:1].sum(axis=1)\n",
    "print((bgs_faint_pass1 > 0).sum() / len(bgs_faint_pass1))\n",
    "\n",
    "# After Pass 2\n",
    "bgs_faint_pass2 = bgs_faint['NUMOBS_DONE'][:, 0:2].sum(axis=1)\n",
    "print((bgs_faint_pass2 > 0).sum() / len(bgs_faint_pass2))\n",
    "\n",
    "# After Pass 3\n",
    "bgs_faint_pass3 = bgs_faint['NUMOBS_DONE'][:, 0:3].sum(axis=1)\n",
    "print((bgs_faint_pass3 > 0).sum() / len(bgs_faint_pass3))\n",
    "\n",
    "# After Pass 4\n",
    "bgs_faint_pass4 = bgs_faint['NUMOBS_DONE'][:, 0:4].sum(axis=1)\n",
    "print((bgs_faint_pass4 > 0).sum() / len(bgs_faint_pass4))\n",
    "\n",
    "# After Pass 5\n",
    "bgs_faint_pass5 = bgs_faint['NUMOBS_DONE'][:, 0:5].sum(axis=1)\n",
    "print((bgs_faint_pass5 > 0).sum() / len(bgs_faint_pass5))\n",
    "\n",
    "# After Pass 6\n",
    "bgs_faint_pass6 = bgs_faint['NUMOBS_DONE'][:, 0:6].sum(axis=1)\n",
    "print((bgs_faint_pass6 > 0).sum() / len(bgs_faint_pass6))"
   ]
  }
 ],
 "metadata": {
  "kernelspec": {
   "display_name": "Python 3 (ipykernel)",
   "language": "python",
   "name": "python3"
  },
  "language_info": {
   "codemirror_mode": {
    "name": "ipython",
    "version": 3
   },
   "file_extension": ".py",
   "mimetype": "text/x-python",
   "name": "python",
   "nbconvert_exporter": "python",
   "pygments_lexer": "ipython3",
   "version": "3.9.12"
  }
 },
 "nbformat": 4,
 "nbformat_minor": 5
}
