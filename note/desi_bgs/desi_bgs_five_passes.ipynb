{
 "cells": [
  {
   "cell_type": "code",
   "execution_count": 1,
   "id": "a7214531-7a2d-4ff0-a832-447b56344329",
   "metadata": {},
   "outputs": [],
   "source": [
    "%matplotlib inline\n",
    "%load_ext autoreload\n",
    "%autoreload 2\n",
    "\n",
    "import os\n",
    "import sys\n",
    "import copy\n",
    "\n",
    "import numpy as np\n",
    "from scipy import ndimage\n",
    "from scipy.spatial import cKDTree\n",
    "\n",
    "import astropy.units as u\n",
    "from astropy import wcs\n",
    "from astropy.io import fits\n",
    "from astropy.table import Table, Column, vstack\n",
    "from astropy.coordinates import SkyCoord\n",
    "\n",
    "import matplotlib.pyplot as plt\n",
    "from matplotlib import colors\n",
    "from matplotlib import gridspec"
   ]
  },
  {
   "cell_type": "markdown",
   "id": "1a1be6b0-35b3-4650-9511-d9594b071364",
   "metadata": {},
   "source": [
    "# Preparing for BGS Y4-6 Prediction\n",
    "\n",
    "- Checking Anand Raichoor's `fiberassign` files\n",
    "- Checking the completeness of the BGS targets"
   ]
  },
  {
   "cell_type": "code",
   "execution_count": 4,
   "id": "d4197060-00be-4da1-9bd1-cc16c0e88f7d",
   "metadata": {},
   "outputs": [],
   "source": [
    "loc = '/Users/song/galaxy/desi/fiberassign'\n",
    "\n",
    "sgc_cat = Table.read(os.path.join(loc, 'bright-sgc/targ-after-pass5.fits'))"
   ]
  },
  {
   "cell_type": "code",
   "execution_count": 6,
   "id": "3ed26f5f-e175-485d-a3b2-5e28c23cb239",
   "metadata": {},
   "outputs": [
    {
     "name": "stdout",
     "output_type": "stream",
     "text": [
      "['RA', 'DEC', 'TARGETID', 'DESI_TARGET', 'BGS_TARGET', 'MWS_TARGET', 'SUBPRIORITY', 'OBSCONDITIONS', 'PRIORITY_INIT', 'NUMOBS_INIT', 'SCND_TARGET', 'NFIBER_AVAIL', 'NTILE_AVAIL', 'NUMOBS_DONE', 'ISRADEC_SAFE', 'NUMOBS_MORE', 'NUMOBS', 'Z', 'ZWARN', 'ZTILEID', 'Z_QN', 'IS_QSO_QN', 'DELTACHI2', 'TARGET_STATE', 'TIMESTAMP', 'VERSION', 'PRIORITY']\n"
     ]
    }
   ],
   "source": [
    "print(sgc_cat.colnames)"
   ]
  },
  {
   "cell_type": "code",
   "execution_count": 11,
   "id": "5b91c887-5fc7-47d9-ac9d-2bcae240b346",
   "metadata": {},
   "outputs": [
    {
     "name": "stdout",
     "output_type": "stream",
     "text": [
      "6320104\n"
     ]
    }
   ],
   "source": [
    "# BGS in SGC\n",
    "sgc_bgs = sgc_cat[sgc_cat['BGS_TARGET'] > 0]\n",
    "\n",
    "print(len(sgc_bgs))"
   ]
  },
  {
   "cell_type": "code",
   "execution_count": 33,
   "id": "b7b52bbb-7899-4cf4-bf60-f28772c65174",
   "metadata": {},
   "outputs": [
    {
     "name": "stdout",
     "output_type": "stream",
     "text": [
      "14187580\n"
     ]
    }
   ],
   "source": [
    "# BGS in NGC\n",
    "ngc_cat = Table.read(os.path.join(loc, 'bright-ngc/targ-after-pass5.fits'))\n",
    "\n",
    "ngc_bgs = ngc_cat[ngc_cat['BGS_TARGET'] > 0]\n",
    "\n",
    "print(len(ngc_bgs))"
   ]
  },
  {
   "cell_type": "code",
   "execution_count": 43,
   "id": "4371c3d5-7063-488c-8e68-0ed3785a5695",
   "metadata": {},
   "outputs": [
    {
     "name": "stdout",
     "output_type": "stream",
     "text": [
      "20507684\n"
     ]
    },
    {
     "name": "stderr",
     "output_type": "stream",
     "text": [
      "WARNING: MergeConflictWarning: Cannot merge meta key 'RADEC' types <class 'str'> and <class 'str'>, choosing RADEC='300,85,-90,90' [astropy.utils.metadata]\n",
      "WARNING: MergeConflictWarning: Cannot merge meta key 'AREATILE' types <class 'float'> and <class 'float'>, choosing AREATILE=4659.0 [astropy.utils.metadata]\n",
      "WARNING: MergeConflictWarning: Cannot merge meta key 'AREASAFE' types <class 'float'> and <class 'float'>, choosing AREASAFE=4659.0 [astropy.utils.metadata]\n",
      "WARNING: MergeConflictWarning: Cannot merge meta key 'PRIOMASK' types <class 'astropy.io.fits.card.Undefined'> and <class 'astropy.io.fits.card.Undefined'>, choosing PRIOMASK=<astropy.io.fits.card.Undefined object at 0x12a11edc0> [astropy.utils.metadata]\n",
      "WARNING: MergeConflictWarning: Cannot merge meta key 'PRIOFRAC' types <class 'astropy.io.fits.card.Undefined'> and <class 'astropy.io.fits.card.Undefined'>, choosing PRIOFRAC=<astropy.io.fits.card.Undefined object at 0x12a11edc0> [astropy.utils.metadata]\n",
      "WARNING: MergeConflictWarning: Cannot merge meta key 'PRIONEW' types <class 'astropy.io.fits.card.Undefined'> and <class 'astropy.io.fits.card.Undefined'>, choosing PRIONEW=<astropy.io.fits.card.Undefined object at 0x12a11edc0> [astropy.utils.metadata]\n",
      "WARNING: MergeConflictWarning: Cannot merge meta key 'NUMINIT' types <class 'astropy.io.fits.card.Undefined'> and <class 'astropy.io.fits.card.Undefined'>, choosing NUMINIT=<astropy.io.fits.card.Undefined object at 0x12a11edc0> [astropy.utils.metadata]\n",
      "WARNING: MergeConflictWarning: Cannot merge meta key 'NUMINITQ' types <class 'astropy.io.fits.card.Undefined'> and <class 'astropy.io.fits.card.Undefined'>, choosing NUMINITQ=<astropy.io.fits.card.Undefined object at 0x12a11edc0> [astropy.utils.metadata]\n"
     ]
    }
   ],
   "source": [
    "bgs_cat = vstack([ngc_bgs, sgc_bgs])\n",
    "\n",
    "print(len(bgs_cat))"
   ]
  },
  {
   "cell_type": "code",
   "execution_count": 67,
   "id": "02e9e389-182f-46de-a6d9-b7c80697a01b",
   "metadata": {},
   "outputs": [
    {
     "name": "stderr",
     "output_type": "stream",
     "text": [
      "WARNING: MergeConflictWarning: Cannot merge meta key 'RADEC' types <class 'str'> and <class 'str'>, choosing RADEC='300,85,-90,90' [astropy.utils.metadata]\n",
      "WARNING: MergeConflictWarning: Cannot merge meta key 'AREATILE' types <class 'float'> and <class 'float'>, choosing AREATILE=4659.0 [astropy.utils.metadata]\n",
      "WARNING: MergeConflictWarning: Cannot merge meta key 'AREASAFE' types <class 'float'> and <class 'float'>, choosing AREASAFE=4659.0 [astropy.utils.metadata]\n",
      "WARNING: MergeConflictWarning: Cannot merge meta key 'PRIOMASK' types <class 'astropy.io.fits.card.Undefined'> and <class 'astropy.io.fits.card.Undefined'>, choosing PRIOMASK=<astropy.io.fits.card.Undefined object at 0x12a11edc0> [astropy.utils.metadata]\n",
      "WARNING: MergeConflictWarning: Cannot merge meta key 'PRIOFRAC' types <class 'astropy.io.fits.card.Undefined'> and <class 'astropy.io.fits.card.Undefined'>, choosing PRIOFRAC=<astropy.io.fits.card.Undefined object at 0x12a11edc0> [astropy.utils.metadata]\n",
      "WARNING: MergeConflictWarning: Cannot merge meta key 'PRIONEW' types <class 'astropy.io.fits.card.Undefined'> and <class 'astropy.io.fits.card.Undefined'>, choosing PRIONEW=<astropy.io.fits.card.Undefined object at 0x12a11edc0> [astropy.utils.metadata]\n",
      "WARNING: MergeConflictWarning: Cannot merge meta key 'NUMINIT' types <class 'astropy.io.fits.card.Undefined'> and <class 'astropy.io.fits.card.Undefined'>, choosing NUMINIT=<astropy.io.fits.card.Undefined object at 0x12a11edc0> [astropy.utils.metadata]\n",
      "WARNING: MergeConflictWarning: Cannot merge meta key 'NUMINITQ' types <class 'astropy.io.fits.card.Undefined'> and <class 'astropy.io.fits.card.Undefined'>, choosing NUMINITQ=<astropy.io.fits.card.Undefined object at 0x12a11edc0> [astropy.utils.metadata]\n"
     ]
    }
   ],
   "source": [
    "# MWS targets\n",
    "\n",
    "ngc_mws = ngc_cat[ngc_cat['MWS_TARGET'] > 0]\n",
    "sgc_mws = sgc_cat[sgc_cat['MWS_TARGET'] > 0]\n",
    "\n",
    "mws_cat = vstack([ngc_mws, sgc_mws])"
   ]
  },
  {
   "cell_type": "code",
   "execution_count": 68,
   "id": "1ee07b57-d3e1-4320-9114-239b696b0a15",
   "metadata": {},
   "outputs": [
    {
     "name": "stdout",
     "output_type": "stream",
     "text": [
      "26023866\n"
     ]
    }
   ],
   "source": [
    "print(len(mws_cat))"
   ]
  },
  {
   "cell_type": "code",
   "execution_count": 44,
   "id": "d673c2f2-b36b-4e01-8f0b-39628c6d1ae4",
   "metadata": {},
   "outputs": [
    {
     "data": {
      "text/html": [
       "<i>Row index=1</i>\n",
       "<table id=\"table5364004416\">\n",
       "<thead><tr><th>RA</th><th>DEC</th><th>TARGETID</th><th>DESI_TARGET</th><th>BGS_TARGET</th><th>MWS_TARGET</th><th>SUBPRIORITY</th><th>OBSCONDITIONS</th><th>PRIORITY_INIT</th><th>NUMOBS_INIT</th><th>SCND_TARGET</th><th>NFIBER_AVAIL</th><th>NTILE_AVAIL</th><th>NUMOBS_DONE</th><th>ISRADEC_SAFE</th><th>NUMOBS_MORE</th><th>NUMOBS</th><th>Z</th><th>ZWARN</th><th>ZTILEID</th><th>Z_QN</th><th>IS_QSO_QN</th><th>DELTACHI2</th><th>TARGET_STATE</th><th>TIMESTAMP</th><th>VERSION</th><th>PRIORITY</th></tr></thead>\n",
       "<thead><tr><th>float64</th><th>float64</th><th>int64</th><th>int64</th><th>int64</th><th>int64</th><th>float64</th><th>int32</th><th>int64</th><th>int64</th><th>int64</th><th>int64[6]</th><th>int64[6]</th><th>int64[6]</th><th>bool</th><th>int64</th><th>int64</th><th>float64</th><th>int64</th><th>int32</th><th>float64</th><th>int16</th><th>float64</th><th>bytes30</th><th>bytes25</th><th>bytes14</th><th>int64</th></tr></thead>\n",
       "<tr><td>129.94478196513236</td><td>4.337557713578675</td><td>39627889548722586</td><td>1152921504606846976</td><td>131074</td><td>0</td><td>0.8308635630938688</td><td>516</td><td>2100</td><td>2</td><td>0</td><td>0 .. 0</td><td>0 .. 0</td><td>0 .. 0</td><td>True</td><td>0</td><td>1</td><td>-1.0</td><td>0</td><td>1</td><td>-1.0</td><td>-1</td><td>-1.0</td><td>BGS_BRIGHT|MORE_ZGOOD</td><td>2022-05-16T08:10:02+00:00</td><td>2.5.0</td><td>2</td></tr>\n",
       "</table>"
      ],
      "text/plain": [
       "<Row index=1>\n",
       "        RA                DEC             TARGETID         DESI_TARGET     BGS_TARGET MWS_TARGET    SUBPRIORITY     OBSCONDITIONS PRIORITY_INIT NUMOBS_INIT SCND_TARGET NFIBER_AVAIL NTILE_AVAIL NUMOBS_DONE ISRADEC_SAFE NUMOBS_MORE NUMOBS    Z    ZWARN ZTILEID   Z_QN  IS_QSO_QN DELTACHI2      TARGET_STATE             TIMESTAMP         VERSION PRIORITY\n",
       "     float64            float64            int64              int64          int64      int64         float64           int32         int64        int64       int64      int64[6]     int64[6]    int64[6]      bool        int64    int64  float64 int64  int32  float64   int16    float64         bytes30                 bytes25          bytes14  int64  \n",
       "------------------ ----------------- ----------------- ------------------- ---------- ---------- ------------------ ------------- ------------- ----------- ----------- ------------ ----------- ----------- ------------ ----------- ------ ------- ----- ------- ------- --------- --------- --------------------- ------------------------- ------- --------\n",
       "129.94478196513236 4.337557713578675 39627889548722586 1152921504606846976     131074          0 0.8308635630938688           516          2100           2           0       0 .. 0      0 .. 0      0 .. 0         True           0      1    -1.0     0       1    -1.0        -1      -1.0 BGS_BRIGHT|MORE_ZGOOD 2022-05-16T08:10:02+00:00   2.5.0        2"
      ]
     },
     "execution_count": 44,
     "metadata": {},
     "output_type": "execute_result"
    }
   ],
   "source": [
    "bgs_cat[1]"
   ]
  },
  {
   "cell_type": "markdown",
   "id": "736f56a4-a001-489e-895d-a42344d5e08f",
   "metadata": {},
   "source": [
    "- `BGS_TARGET` bitmasks:\n",
    "    - `1`: `BGS_FAINT`\n",
    "    - `2`: `BGS_BRIGHT`"
   ]
  },
  {
   "cell_type": "code",
   "execution_count": 54,
   "id": "b8f382cd-0f3f-49cc-ae6d-577dca1fa9b9",
   "metadata": {},
   "outputs": [
    {
     "name": "stdout",
     "output_type": "stream",
     "text": [
      "12656074 7806053\n"
     ]
    }
   ],
   "source": [
    "bgs_bright = bgs_cat[(bgs_cat[\"BGS_TARGET\"] & 2) != 0]\n",
    "bgs_faint = bgs_cat[(bgs_cat[\"BGS_TARGET\"] & 1) != 0]\n",
    "\n",
    "print(len(bgs_bright), len(bgs_faint))"
   ]
  },
  {
   "cell_type": "code",
   "execution_count": 56,
   "id": "6b8a07e6-76ab-4dad-b792-f333d06dc7e7",
   "metadata": {},
   "outputs": [],
   "source": [
    "area = 14861.0 # deg^2"
   ]
  },
  {
   "cell_type": "code",
   "execution_count": 65,
   "id": "94de5e29-5ae9-402d-8edb-29f3e36d5152",
   "metadata": {},
   "outputs": [
    {
     "name": "stdout",
     "output_type": "stream",
     "text": [
      "0.2861090255951411\n",
      "0.5084110601755331\n",
      "0.6710901026653289\n",
      "0.7864212867276219\n",
      "0.8612050624862023\n",
      "0.9095186232318174\n"
     ]
    }
   ],
   "source": [
    "# After Pass 1\n",
    "bgs_bright_pass1 = bgs_bright['NUMOBS_DONE'][:, 0:1].sum(axis=1)\n",
    "print((bgs_bright_pass1 > 0).sum() / len(bgs_bright_pass1))\n",
    "\n",
    "# After Pass 2\n",
    "bgs_bright_pass2 = bgs_bright['NUMOBS_DONE'][:, 0:2].sum(axis=1)\n",
    "print((bgs_bright_pass2 > 0).sum() / len(bgs_bright_pass2))\n",
    "\n",
    "# After Pass 3\n",
    "bgs_bright_pass3 = bgs_bright['NUMOBS_DONE'][:, 0:3].sum(axis=1)\n",
    "print((bgs_bright_pass3 > 0).sum() / len(bgs_bright_pass3))\n",
    "\n",
    "# After Pass 4\n",
    "bgs_bright_pass4 = bgs_bright['NUMOBS_DONE'][:, 0:4].sum(axis=1)\n",
    "print((bgs_bright_pass4 > 0).sum() / len(bgs_bright_pass4))\n",
    "\n",
    "# After Pass 5\n",
    "bgs_bright_pass5 = bgs_bright['NUMOBS_DONE'][:, 0:5].sum(axis=1)\n",
    "print((bgs_bright_pass5 > 0).sum() / len(bgs_bright_pass5))\n",
    "\n",
    "# After Pass 6\n",
    "bgs_bright_pass6 = bgs_bright['NUMOBS_DONE'][:, 0:6].sum(axis=1)\n",
    "print((bgs_bright_pass6 > 0).sum() / len(bgs_bright_pass6))"
   ]
  },
  {
   "cell_type": "code",
   "execution_count": 66,
   "id": "ebbf2af7-d11c-4309-abc2-518cab9a614f",
   "metadata": {},
   "outputs": [
    {
     "name": "stdout",
     "output_type": "stream",
     "text": [
      "0.14809443389636223\n",
      "0.30674196037357165\n",
      "0.4621377794898395\n",
      "0.6003922853201227\n",
      "0.7123512996901251\n",
      "0.7976510023695714\n"
     ]
    }
   ],
   "source": [
    "# After Pass 1\n",
    "bgs_faint_pass1 = bgs_faint['NUMOBS_DONE'][:, 0:1].sum(axis=1)\n",
    "print((bgs_faint_pass1 > 0).sum() / len(bgs_faint_pass1))\n",
    "\n",
    "# After Pass 2\n",
    "bgs_faint_pass2 = bgs_faint['NUMOBS_DONE'][:, 0:2].sum(axis=1)\n",
    "print((bgs_faint_pass2 > 0).sum() / len(bgs_faint_pass2))\n",
    "\n",
    "# After Pass 3\n",
    "bgs_faint_pass3 = bgs_faint['NUMOBS_DONE'][:, 0:3].sum(axis=1)\n",
    "print((bgs_faint_pass3 > 0).sum() / len(bgs_faint_pass3))\n",
    "\n",
    "# After Pass 4\n",
    "bgs_faint_pass4 = bgs_faint['NUMOBS_DONE'][:, 0:4].sum(axis=1)\n",
    "print((bgs_faint_pass4 > 0).sum() / len(bgs_faint_pass4))\n",
    "\n",
    "# After Pass 5\n",
    "bgs_faint_pass5 = bgs_faint['NUMOBS_DONE'][:, 0:5].sum(axis=1)\n",
    "print((bgs_faint_pass5 > 0).sum() / len(bgs_faint_pass5))\n",
    "\n",
    "# After Pass 6\n",
    "bgs_faint_pass6 = bgs_faint['NUMOBS_DONE'][:, 0:6].sum(axis=1)\n",
    "print((bgs_faint_pass6 > 0).sum() / len(bgs_faint_pass6))"
   ]
  },
  {
   "cell_type": "code",
   "execution_count": 69,
   "id": "f580a3c1-8bc5-4beb-93c9-81a9bb1378d5",
   "metadata": {},
   "outputs": [
    {
     "name": "stdout",
     "output_type": "stream",
     "text": [
      "0.03960772008278862\n",
      "0.09550702420616522\n",
      "0.16890645686540193\n",
      "0.25476453037377306\n",
      "0.3467808357144169\n",
      "0.4375859835736935\n"
     ]
    }
   ],
   "source": [
    "# After Pass 1\n",
    "mws_cat_pass1 = mws_cat['NUMOBS_DONE'][:, 0:1].sum(axis=1)\n",
    "print((mws_cat_pass1 > 0).sum() / len(mws_cat_pass1))\n",
    "\n",
    "# After Pass 2\n",
    "mws_cat_pass2 = mws_cat['NUMOBS_DONE'][:, 0:2].sum(axis=1)\n",
    "print((mws_cat_pass2 > 0).sum() / len(mws_cat_pass2))\n",
    "\n",
    "# After Pass 3\n",
    "mws_cat_pass3 = mws_cat['NUMOBS_DONE'][:, 0:3].sum(axis=1)\n",
    "print((mws_cat_pass3 > 0).sum() / len(mws_cat_pass3))\n",
    "\n",
    "# After Pass 4\n",
    "mws_cat_pass4 = mws_cat['NUMOBS_DONE'][:, 0:4].sum(axis=1)\n",
    "print((mws_cat_pass4 > 0).sum() / len(mws_cat_pass4))\n",
    "\n",
    "# After Pass 5\n",
    "mws_cat_pass5 = mws_cat['NUMOBS_DONE'][:, 0:5].sum(axis=1)\n",
    "print((mws_cat_pass5 > 0).sum() / len(mws_cat_pass5))\n",
    "\n",
    "# After Pass 6\n",
    "mws_cat_pass6 = mws_cat['NUMOBS_DONE'][:, 0:6].sum(axis=1)\n",
    "print((mws_cat_pass6 > 0).sum() / len(mws_cat_pass6))"
   ]
  },
  {
   "cell_type": "code",
   "execution_count": 77,
   "id": "a0b5a316-f545-4cb9-b9f5-aefadf20d866",
   "metadata": {},
   "outputs": [
    {
     "data": {
      "text/html": [
       "&lt;Column name=&apos;PRIORITY_INIT&apos; dtype=&apos;int64&apos; length=2&gt;\n",
       "<table>\n",
       "<tr><td>2000</td></tr>\n",
       "<tr><td>2100</td></tr>\n",
       "</table>"
      ],
      "text/plain": [
       "<Column name='PRIORITY_INIT' dtype='int64' length=2>\n",
       "2000\n",
       "2100"
      ]
     },
     "execution_count": 77,
     "metadata": {},
     "output_type": "execute_result"
    }
   ],
   "source": [
    "np.unique(bgs_faint['PRIORITY_INIT'])"
   ]
  },
  {
   "cell_type": "code",
   "execution_count": 79,
   "id": "e8ae5e55-83a6-47d3-b32e-d1c0b2770a89",
   "metadata": {},
   "outputs": [],
   "source": [
    "bgs_faint_low = bgs_faint[bgs_faint['PRIORITY_INIT'] == 2000]\n",
    "bgs_faint_high = bgs_faint[bgs_faint['PRIORITY_INIT'] == 2100]"
   ]
  },
  {
   "cell_type": "code",
   "execution_count": 78,
   "id": "f8c7732d-2dd1-4ab9-b28f-36020e2b0919",
   "metadata": {},
   "outputs": [
    {
     "data": {
      "text/html": [
       "&lt;Column name=&apos;PRIORITY_INIT&apos; dtype=&apos;int64&apos; length=2&gt;\n",
       "<table>\n",
       "<tr><td>2100</td></tr>\n",
       "<tr><td>2998</td></tr>\n",
       "</table>"
      ],
      "text/plain": [
       "<Column name='PRIORITY_INIT' dtype='int64' length=2>\n",
       "2100\n",
       "2998"
      ]
     },
     "execution_count": 78,
     "metadata": {},
     "output_type": "execute_result"
    }
   ],
   "source": [
    "np.unique(bgs_bright['PRIORITY_INIT'])"
   ]
  },
  {
   "cell_type": "code",
   "execution_count": 80,
   "id": "418b394b-c0c7-4acf-9030-3cdbc8f23cfb",
   "metadata": {},
   "outputs": [],
   "source": [
    "bgs_bright_low = bgs_bright[bgs_bright['PRIORITY_INIT'] == 2100]\n",
    "bgs_bright_high = bgs_bright[bgs_bright['PRIORITY_INIT'] == 2998]"
   ]
  },
  {
   "cell_type": "code",
   "execution_count": 81,
   "id": "cc6ec372-75d5-4c4a-bc67-7f974f49d04a",
   "metadata": {},
   "outputs": [
    {
     "name": "stdout",
     "output_type": "stream",
     "text": [
      "0.286108574557056\n",
      "0.508410714583426\n",
      "0.6710898708673846\n",
      "0.7864210335934749\n",
      "0.8612048979860161\n",
      "0.9095185159930117\n"
     ]
    }
   ],
   "source": [
    "# After Pass 1\n",
    "bgs_bright_low_pass1 = bgs_bright_low['NUMOBS_DONE'][:, 0:1].sum(axis=1)\n",
    "print((bgs_bright_low_pass1 > 0).sum() / len(bgs_bright_low_pass1))\n",
    "\n",
    "# After Pass 2\n",
    "bgs_bright_low_pass2 = bgs_bright_low['NUMOBS_DONE'][:, 0:2].sum(axis=1)\n",
    "print((bgs_bright_low_pass2 > 0).sum() / len(bgs_bright_low_pass2))\n",
    "\n",
    "# After Pass 3abs\n",
    "bgs_bright_low_pass3 = bgs_bright_low['NUMOBS_DONE'][:, 0:3].sum(axis=1)\n",
    "print((bgs_bright_low_pass3 > 0).sum() / len(bgs_bright_low_pass3))\n",
    "\n",
    "# After Pass 4\n",
    "bgs_bright_low_pass4 = bgs_bright_low['NUMOBS_DONE'][:, 0:4].sum(axis=1)\n",
    "print((bgs_bright_low_pass4 > 0).sum() / len(bgs_bright_low_pass4))\n",
    "\n",
    "# After Pass 5\n",
    "bgs_bright_low_pass5 = bgs_bright_low['NUMOBS_DONE'][:, 0:5].sum(axis=1)\n",
    "print((bgs_bright_low_pass5 > 0).sum() / len(bgs_bright_low_pass5))\n",
    "\n",
    "# After Pass 6\n",
    "bgs_bright_low_pass6 = bgs_bright_low['NUMOBS_DONE'][:, 0:6].sum(axis=1)\n",
    "print((bgs_bright_low_pass6 > 0).sum() / len(bgs_bright_low_pass6))"
   ]
  },
  {
   "cell_type": "code",
   "execution_count": 82,
   "id": "f1ff3447-989a-4008-b246-9100a8ba2c05",
   "metadata": {},
   "outputs": [
    {
     "name": "stdout",
     "output_type": "stream",
     "text": [
      "0.6666666666666666\n",
      "0.8\n",
      "0.8666666666666667\n",
      "1.0\n",
      "1.0\n",
      "1.0\n"
     ]
    }
   ],
   "source": [
    "# After Pass 1\n",
    "bgs_bright_high_pass1 = bgs_bright_high['NUMOBS_DONE'][:, 0:1].sum(axis=1)\n",
    "print((bgs_bright_high_pass1 > 0).sum() / len(bgs_bright_high_pass1))\n",
    "\n",
    "# After Pass 2\n",
    "bgs_bright_high_pass2 = bgs_bright_high['NUMOBS_DONE'][:, 0:2].sum(axis=1)\n",
    "print((bgs_bright_high_pass2 > 0).sum() / len(bgs_bright_high_pass2))\n",
    "\n",
    "# After Pass 3abs\n",
    "bgs_bright_high_pass3 = bgs_bright_high['NUMOBS_DONE'][:, 0:3].sum(axis=1)\n",
    "print((bgs_bright_high_pass3 > 0).sum() / len(bgs_bright_high_pass3))\n",
    "\n",
    "# After Pass 4\n",
    "bgs_bright_high_pass4 = bgs_bright_high['NUMOBS_DONE'][:, 0:4].sum(axis=1)\n",
    "print((bgs_bright_high_pass4 > 0).sum() / len(bgs_bright_high_pass4))\n",
    "\n",
    "# After Pass 5\n",
    "bgs_bright_high_pass5 = bgs_bright_high['NUMOBS_DONE'][:, 0:5].sum(axis=1)\n",
    "print((bgs_bright_high_pass5 > 0).sum() / len(bgs_bright_high_pass5))\n",
    "\n",
    "# After Pass 6\n",
    "bgs_bright_high_pass6 = bgs_bright_high['NUMOBS_DONE'][:, 0:6].sum(axis=1)\n",
    "print((bgs_bright_high_pass6 > 0).sum() / len(bgs_bright_high_pass6))"
   ]
  },
  {
   "cell_type": "code",
   "execution_count": 83,
   "id": "9acb1fd4-09f3-4a7d-bbdb-1daf230e9b7a",
   "metadata": {},
   "outputs": [
    {
     "name": "stdout",
     "output_type": "stream",
     "text": [
      "0.10947317548577462\n",
      "0.2503495354553297\n",
      "0.4037928380101132\n",
      "0.5484957925235042\n",
      "0.6707810778294677\n",
      "0.7663376899225377\n"
     ]
    }
   ],
   "source": [
    "# After Pass 1\n",
    "bgs_faint_low_pass1 = bgs_faint_low['NUMOBS_DONE'][:, 0:1].sum(axis=1)\n",
    "print((bgs_faint_low_pass1 > 0).sum() / len(bgs_faint_low_pass1))\n",
    "\n",
    "# After Pass 2\n",
    "bgs_faint_low_pass2 = bgs_faint_low['NUMOBS_DONE'][:, 0:2].sum(axis=1)\n",
    "print((bgs_faint_low_pass2 > 0).sum() / len(bgs_faint_low_pass2))\n",
    "\n",
    "# After Pass 3abs\n",
    "bgs_faint_low_pass3 = bgs_faint_low['NUMOBS_DONE'][:, 0:3].sum(axis=1)\n",
    "print((bgs_faint_low_pass3 > 0).sum() / len(bgs_faint_low_pass3))\n",
    "\n",
    "# After Pass 4\n",
    "bgs_faint_low_pass4 = bgs_faint_low['NUMOBS_DONE'][:, 0:4].sum(axis=1)\n",
    "print((bgs_faint_low_pass4 > 0).sum() / len(bgs_faint_low_pass4))\n",
    "\n",
    "# After Pass 5\n",
    "bgs_faint_low_pass5 = bgs_faint_low['NUMOBS_DONE'][:, 0:5].sum(axis=1)\n",
    "print((bgs_faint_low_pass5 > 0).sum() / len(bgs_faint_low_pass5))\n",
    "\n",
    "# After Pass 6\n",
    "bgs_faint_low_pass6 = bgs_faint_low['NUMOBS_DONE'][:, 0:6].sum(axis=1)\n",
    "print((bgs_faint_low_pass6 > 0).sum() / len(bgs_faint_low_pass6))"
   ]
  },
  {
   "cell_type": "code",
   "execution_count": 84,
   "id": "cbf3ab56-077e-4288-9224-2efcf27ff438",
   "metadata": {},
   "outputs": [
    {
     "name": "stdout",
     "output_type": "stream",
     "text": [
      "0.3025639580461861\n",
      "0.5322890140238873\n",
      "0.695494115296131\n",
      "0.807957415956591\n",
      "0.8786154933979617\n",
      "0.9228916773839839\n"
     ]
    }
   ],
   "source": [
    "# After Pass 1\n",
    "bgs_faint_high_pass1 = bgs_faint_high['NUMOBS_DONE'][:, 0:1].sum(axis=1)\n",
    "print((bgs_faint_high_pass1 > 0).sum() / len(bgs_faint_high_pass1))\n",
    "\n",
    "# After Pass 2\n",
    "bgs_faint_high_pass2 = bgs_faint_high['NUMOBS_DONE'][:, 0:2].sum(axis=1)\n",
    "print((bgs_faint_high_pass2 > 0).sum() / len(bgs_faint_high_pass2))\n",
    "\n",
    "# After Pass 3abs\n",
    "bgs_faint_high_pass3 = bgs_faint_high['NUMOBS_DONE'][:, 0:3].sum(axis=1)\n",
    "print((bgs_faint_high_pass3 > 0).sum() / len(bgs_faint_high_pass3))\n",
    "\n",
    "# After Pass 4\n",
    "bgs_faint_high_pass4 = bgs_faint_high['NUMOBS_DONE'][:, 0:4].sum(axis=1)\n",
    "print((bgs_faint_high_pass4 > 0).sum() / len(bgs_faint_high_pass4))\n",
    "\n",
    "# After Pass 5\n",
    "bgs_faint_high_pass5 = bgs_faint_high['NUMOBS_DONE'][:, 0:5].sum(axis=1)\n",
    "print((bgs_faint_high_pass5 > 0).sum() / len(bgs_faint_high_pass5))\n",
    "\n",
    "# After Pass 6\n",
    "bgs_faint_high_pass6 = bgs_faint_high['NUMOBS_DONE'][:, 0:6].sum(axis=1)\n",
    "print((bgs_faint_high_pass6 > 0).sum() / len(bgs_faint_high_pass6))"
   ]
  },
  {
   "cell_type": "markdown",
   "id": "eb670044-e5bf-4dc1-b6ef-b494ef2f6304",
   "metadata": {},
   "source": [
    "## Checking the repeated observations"
   ]
  },
  {
   "cell_type": "code",
   "execution_count": 103,
   "id": "c8085861-dd76-4434-a620-fd575f101f44",
   "metadata": {},
   "outputs": [
    {
     "name": "stdout",
     "output_type": "stream",
     "text": [
      "0.030089899916830448\n",
      "0.048677654697657426\n",
      "0.07056137630042303\n",
      "PRIORITY\n",
      "--------\n",
      "       2\n"
     ]
    }
   ],
   "source": [
    "print((bgs_bright_pass4 > 1).sum() / len(bgs_bright))\n",
    "print((bgs_bright_pass5 > 1).sum() / len(bgs_bright))\n",
    "print((bgs_bright_pass6 > 1).sum() / len(bgs_bright))\n",
    "\n",
    "print(np.unique(bgs_bright[bgs_bright_pass6 > 1]['PRIORITY']))"
   ]
  },
  {
   "cell_type": "code",
   "execution_count": 108,
   "id": "056f6bb4-ab6d-4724-bf6a-0d4777c3dd20",
   "metadata": {},
   "outputs": [
    {
     "data": {
      "text/plain": [
       "(15, 12656059)"
      ]
     },
     "execution_count": 108,
     "metadata": {},
     "output_type": "execute_result"
    }
   ],
   "source": [
    "len(bgs_bright_high), len(bgs_bright_low)"
   ]
  },
  {
   "cell_type": "code",
   "execution_count": 107,
   "id": "9ed389eb-bf4f-4e4c-a7d1-4d8076c44588",
   "metadata": {},
   "outputs": [
    {
     "name": "stdout",
     "output_type": "stream",
     "text": [
      "0.06666666666666667\n",
      "0.13333333333333333\n",
      "0.2\n"
     ]
    }
   ],
   "source": [
    "print((bgs_bright_high_pass4 > 1).sum() / len(bgs_bright_high))\n",
    "print((bgs_bright_high_pass5 > 1).sum() / len(bgs_bright_high))\n",
    "print((bgs_bright_high_pass6 > 1).sum() / len(bgs_bright_high))"
   ]
  },
  {
   "cell_type": "code",
   "execution_count": 106,
   "id": "24a602ea-d868-4483-95d2-1993380df777",
   "metadata": {},
   "outputs": [
    {
     "name": "stdout",
     "output_type": "stream",
     "text": [
      "0.030089856565934152\n",
      "0.048677554363487086\n",
      "0.07056122288936864\n",
      "PRIORITY\n",
      "--------\n",
      "       2\n"
     ]
    }
   ],
   "source": [
    "print((bgs_bright_low_pass4 > 1).sum() / len(bgs_bright_low))\n",
    "print((bgs_bright_low_pass5 > 1).sum() / len(bgs_bright_low))\n",
    "print((bgs_bright_low_pass6 > 1).sum() / len(bgs_bright_low))\n",
    "\n",
    "print(np.unique(bgs_bright_low[bgs_bright_low_pass6 > 1]['PRIORITY']))"
   ]
  },
  {
   "cell_type": "code",
   "execution_count": 109,
   "id": "b33e5bf5-18c7-42a8-880c-5b4ed3b755e2",
   "metadata": {},
   "outputs": [
    {
     "name": "stdout",
     "output_type": "stream",
     "text": [
      "0.027363124488137602\n",
      "0.0460282552526866\n",
      "0.06875702739912219\n"
     ]
    }
   ],
   "source": [
    "print((bgs_faint_pass4 > 1).sum() / len(bgs_faint))\n",
    "print((bgs_faint_pass5 > 1).sum() / len(bgs_faint))\n",
    "print((bgs_faint_pass6 > 1).sum() / len(bgs_faint))"
   ]
  },
  {
   "cell_type": "code",
   "execution_count": 110,
   "id": "17770b0c-a509-4367-8d39-fdd6d03618f6",
   "metadata": {},
   "outputs": [
    {
     "name": "stdout",
     "output_type": "stream",
     "text": [
      "0.03429306696316488\n",
      "0.05460323722760508\n",
      "0.07842066025506361\n"
     ]
    }
   ],
   "source": [
    "print((bgs_faint_high_pass4 > 1).sum() / len(bgs_faint_high))\n",
    "print((bgs_faint_high_pass5 > 1).sum() / len(bgs_faint_high))\n",
    "print((bgs_faint_high_pass6 > 1).sum() / len(bgs_faint_high))"
   ]
  },
  {
   "cell_type": "code",
   "execution_count": 111,
   "id": "aa2ae9dc-0328-46d9-b3df-fad80f58c9e9",
   "metadata": {},
   "outputs": [
    {
     "name": "stdout",
     "output_type": "stream",
     "text": [
      "0.025630464919387058\n",
      "0.04388429451646888\n",
      "0.06634087661618612\n"
     ]
    }
   ],
   "source": [
    "print((bgs_faint_low_pass4 > 1).sum() / len(bgs_faint_low))\n",
    "print((bgs_faint_low_pass5 > 1).sum() / len(bgs_faint_low))\n",
    "print((bgs_faint_low_pass6 > 1).sum() / len(bgs_faint_low))"
   ]
  },
  {
   "cell_type": "code",
   "execution_count": 105,
   "id": "c030a081-c6ef-4e20-94e8-7ac400a1e46f",
   "metadata": {},
   "outputs": [
    {
     "name": "stdout",
     "output_type": "stream",
     "text": [
      "0.024571483729588832\n",
      "0.0477669612962194\n",
      "0.08094058738236663\n",
      "PRIORITY\n",
      "--------\n",
      "       2\n",
      "      50\n",
      "    1540\n"
     ]
    }
   ],
   "source": [
    "print((mws_cat_pass4 > 1).sum() / len(mws_cat))\n",
    "print((mws_cat_pass5 > 1).sum() / len(mws_cat))\n",
    "print((mws_cat_pass6 > 1).sum() / len(mws_cat))\n",
    "\n",
    "print(np.unique(mws_cat[mws_cat_pass6 > 1]['PRIORITY']))"
   ]
  },
  {
   "cell_type": "code",
   "execution_count": 117,
   "id": "8f05b879-eccd-40eb-b2ab-18a21ccbd48e",
   "metadata": {},
   "outputs": [
    {
     "data": {
      "text/plain": [
       "1678674"
      ]
     },
     "execution_count": 117,
     "metadata": {},
     "output_type": "execute_result"
    }
   ],
   "source": [
    "(bgs_bright_pass4 - bgs_bright_pass3).sum()"
   ]
  },
  {
   "cell_type": "code",
   "execution_count": 122,
   "id": "8fe48f10-0626-417f-a542-10e4950842d8",
   "metadata": {},
   "outputs": [
    {
     "data": {
      "text/plain": [
       "1459640"
      ]
     },
     "execution_count": 122,
     "metadata": {},
     "output_type": "execute_result"
    }
   ],
   "source": [
    "(bgs_bright_pass4 > 0).sum() - (bgs_bright_pass3 > 0).sum()"
   ]
  },
  {
   "cell_type": "code",
   "execution_count": 123,
   "id": "58b58c0c-2f98-483a-b7eb-dcc2e98fb94e",
   "metadata": {},
   "outputs": [
    {
     "data": {
      "text/plain": [
       "True"
      ]
     },
     "execution_count": 123,
     "metadata": {},
     "output_type": "execute_result"
    }
   ],
   "source": [
    "(bgs_bright_pass1 > 0).sum() == bgs_bright_pass1.sum()"
   ]
  },
  {
   "cell_type": "code",
   "execution_count": 153,
   "id": "9eed54f4-9ab9-4022-bee4-257e016edabb",
   "metadata": {},
   "outputs": [
    {
     "data": {
      "text/plain": [
       "Text(2.4, 3100000.0, 'Empty: w/o repeat')"
      ]
     },
     "execution_count": 153,
     "metadata": {},
     "output_type": "execute_result"
    },
    {
     "data": {
      "image/png": "[encoded data removed]",
      "text/plain": [
       "<Figure size 432x288 with 1 Axes>"
      ]
     },
     "metadata": {
      "needs_background": "light"
     },
     "output_type": "display_data"
    }
   ],
   "source": [
    "plt.scatter(\n",
    "    [1, 2, 3, 4, 5, 6],\n",
    "    [bgs_bright_pass1.sum(), (bgs_bright_pass2 - bgs_bright_pass1).sum(), (bgs_bright_pass3 - bgs_bright_pass2).sum(),\n",
    "     (bgs_bright_pass4 - bgs_bright_pass3).sum(), (bgs_bright_pass5 - bgs_bright_pass4).sum(), (bgs_bright_pass6 - bgs_bright_pass5).sum()],\n",
    "    marker='o', s=120, facecolor='orangered', edgecolor='w', label='BGS BRIGHT', alpha=0.8\n",
    ")\n",
    "\n",
    "plt.scatter(\n",
    "    [1.2, 2.2, 3.2, 4.2, 5.2, 6.2],\n",
    "    [bgs_faint_pass1.sum(), (bgs_faint_pass2 - bgs_faint_pass1).sum(), (bgs_faint_pass3 - bgs_faint_pass2).sum(),\n",
    "     (bgs_faint_pass4 - bgs_faint_pass3).sum(), (bgs_faint_pass5 - bgs_faint_pass4).sum(), (bgs_faint_pass6 - bgs_faint_pass5).sum()],\n",
    "    marker='h', s=120, facecolor='dodgerblue', edgecolor='w', label='BGS FAINT', alpha=0.8\n",
    ")\n",
    "\n",
    "plt.scatter(\n",
    "    [1.3, 2.3, 3.3, 4.3, 5.3, 6.3],\n",
    "    [mws_cat_pass1.sum(), (mws_cat_pass2 - mws_cat_pass1).sum(), (mws_cat_pass3 - mws_cat_pass2).sum(),\n",
    "     (mws_cat_pass4 - mws_cat_pass3).sum(), (mws_cat_pass5 - mws_cat_pass4).sum(), (mws_cat_pass6 - mws_cat_pass5).sum()],\n",
    "    marker='H', s=120, facecolor='forestgreen', edgecolor='w', label='MWS', alpha=0.8\n",
    ")\n",
    "\n",
    "plt.legend(loc='best')\n",
    "\n",
    "plt.scatter(\n",
    "    [0.9, 1.9, 2.9, 3.9, 4.9, 5.9],\n",
    "    [bgs_bright_pass1.sum(), \n",
    "     ((bgs_bright_pass2 > 0).sum() - (bgs_bright_pass1 > 0).sum()), \n",
    "     ((bgs_bright_pass3 > 0).sum() - (bgs_bright_pass2 > 0).sum()), \n",
    "     ((bgs_bright_pass4 > 0).sum() - (bgs_bright_pass3 > 0).sum()), \n",
    "     ((bgs_bright_pass5 > 0).sum() - (bgs_bright_pass4 > 0).sum()), \n",
    "     ((bgs_bright_pass6 > 0).sum() - (bgs_bright_pass5 > 0).sum()), \n",
    "    ],\n",
    "    marker='o', s=60, facecolor='none', edgecolor='orangered', linewidth=3\n",
    ")\n",
    "\n",
    "plt.scatter(\n",
    "    [0.8, 1.8, 2.8, 3.8, 4.8, 5.8],\n",
    "    [bgs_faint_pass1.sum(), \n",
    "     ((bgs_faint_pass2 > 0).sum() - (bgs_faint_pass1 > 0).sum()), \n",
    "     ((bgs_faint_pass3 > 0).sum() - (bgs_faint_pass2 > 0).sum()), \n",
    "     ((bgs_faint_pass4 > 0).sum() - (bgs_faint_pass3 > 0).sum()), \n",
    "     ((bgs_faint_pass5 > 0).sum() - (bgs_faint_pass4 > 0).sum()), \n",
    "     ((bgs_faint_pass6 > 0).sum() - (bgs_faint_pass5 > 0).sum()), \n",
    "    ],\n",
    "    marker='h', s=60, facecolor='none', edgecolor='dodgerblue', linewidth=3\n",
    ")\n",
    "\n",
    "plt.scatter(\n",
    "    [1, 2, 3, 4, 5, 6],\n",
    "    [mws_cat_pass1.sum(), \n",
    "     ((mws_cat_pass2 > 0).sum() - (mws_cat_pass1 > 0).sum()), \n",
    "     ((mws_cat_pass3 > 0).sum() - (mws_cat_pass2 > 0).sum()), \n",
    "     ((mws_cat_pass4 > 0).sum() - (mws_cat_pass3 > 0).sum()), \n",
    "     ((mws_cat_pass5 > 0).sum() - (mws_cat_pass4 > 0).sum()), \n",
    "     ((mws_cat_pass6 > 0).sum() - (mws_cat_pass5 > 0).sum()), \n",
    "    ],\n",
    "    marker='H', s=60, facecolor='none', edgecolor='forestgreen', linewidth=3\n",
    ")\n",
    "\n",
    "plt.xlabel(\"Passes\", fontsize=25)\n",
    "plt.ylabel(\"Nobs\", fontsize=25)\n",
    "\n",
    "plt.text(2.4, 3.4e6, \"Solid: with repeat\", fontsize=18)\n",
    "plt.text(2.4, 3.1e6, \"Empty: w/o repeat\", fontsize=18)"
   ]
  },
  {
   "cell_type": "code",
   "execution_count": null,
   "id": "ab45f440-02b2-4f0d-9890-89ed40e76bd7",
   "metadata": {},
   "outputs": [],
   "source": []
  }
 ],
 "metadata": {
  "kernelspec": {
   "display_name": "Python 3 (ipykernel)",
   "language": "python",
   "name": "python3"
  },
  "language_info": {
   "codemirror_mode": {
    "name": "ipython",
    "version": 3
   },
   "file_extension": ".py",
   "mimetype": "text/x-python",
   "name": "python",
   "nbconvert_exporter": "python",
   "pygments_lexer": "ipython3",
   "version": "3.9.12"
  }
 },
 "nbformat": 4,
 "nbformat_minor": 5
}
