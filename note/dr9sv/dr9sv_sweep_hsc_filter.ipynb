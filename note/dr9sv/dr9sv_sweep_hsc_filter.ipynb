{
 "cells": [
  {
   "cell_type": "code",
   "execution_count": 4,
   "metadata": {},
   "outputs": [],
   "source": [
    "%matplotlib inline\n",
    "%load_ext autoreload\n",
    "%autoreload 2\n",
    "\n",
    "import os\n",
    "import glob\n",
    "\n",
    "import healpy\n",
    "\n",
    "import numpy as np\n",
    "\n",
    "import matplotlib as mpl\n",
    "import matplotlib.pyplot as plt\n",
    "\n",
    "from astropy.table import Table, vstack\n",
    "from astropy.io import fits"
   ]
  },
  {
   "cell_type": "code",
   "execution_count": 15,
   "metadata": {},
   "outputs": [],
   "source": [
    "from damascus import io\n",
    "from damascus import hsc\n",
    "from damascus import utils"
   ]
  },
  {
   "cell_type": "markdown",
   "metadata": {},
   "source": [
    "# Filter DECaLS Sweep catalog through HSC FDFC healpix mask\n",
    "\n",
    "- Using local DR9SV catalog as a test\n",
    "- Filter through HSC S19A internal release"
   ]
  },
  {
   "cell_type": "code",
   "execution_count": 5,
   "metadata": {},
   "outputs": [],
   "source": [
    "decals_dir = '/Volumes/astro5/massive/decals/dr9sv/'\n",
    "sweep_dir = os.path.join(decals_dir, 'sweep')\n",
    "\n",
    "hsc_dir = '/Volumes/astro5/massive/s19a/'\n",
    "s19a_fdfc_mask = os.path.join(\n",
    "    hsc_dir, 'mask/fdfc/s19a_fdfc_hp_contarea_izy-gt-5_trimmed.fits')"
   ]
  },
  {
   "cell_type": "markdown",
   "metadata": {},
   "source": [
    "### Find all the sweep catalog"
   ]
  },
  {
   "cell_type": "code",
   "execution_count": 6,
   "metadata": {},
   "outputs": [
    {
     "name": "stdout",
     "output_type": "stream",
     "text": [
      "# Find 50 sweep*.fits files\n"
     ]
    }
   ],
   "source": [
    "sweep_list = io.find_files(sweep_dir, 'sweep*.fits')"
   ]
  },
  {
   "cell_type": "code",
   "execution_count": 9,
   "metadata": {},
   "outputs": [
    {
     "name": "stdout",
     "output_type": "stream",
     "text": [
      "CPU times: user 486 ms, sys: 4.35 s, total: 4.84 s\n",
      "Wall time: 46.8 s\n"
     ]
    }
   ],
   "source": [
    "%time sweep_test = Table.read(sweep_list[3])"
   ]
  },
  {
   "cell_type": "code",
   "execution_count": 10,
   "metadata": {},
   "outputs": [
    {
     "name": "stdout",
     "output_type": "stream",
     "text": [
      "CPU times: user 499 ms, sys: 905 ms, total: 1.4 s\n",
      "Wall time: 1.41 s\n"
     ]
    }
   ],
   "source": [
    "%time sweep_test = fits.open(sweep_list[3], memmap=True)[1].data"
   ]
  },
  {
   "cell_type": "code",
   "execution_count": 16,
   "metadata": {},
   "outputs": [
    {
     "name": "stderr",
     "output_type": "stream",
     "text": [
      "/Users/song/Dropbox/work/project/damascus/damascus/utils.py:17: RuntimeWarning: divide by zero encountered in log10\n",
      "  return -2.5 * np.log10(flux) + zeropoint\n",
      "/Users/song/Dropbox/work/project/damascus/damascus/utils.py:17: RuntimeWarning: invalid value encountered in log10\n",
      "  return -2.5 * np.log10(flux) + zeropoint\n"
     ]
    },
    {
     "data": {
      "text/plain": [
       "array([24.492277, 24.89151 , 24.981392, ..., 25.068792, 24.4047  ,\n",
       "       25.19842 ], dtype=float32)"
      ]
     },
     "execution_count": 16,
     "metadata": {},
     "output_type": "execute_result"
    }
   ],
   "source": [
    "utils.flux_to_mag(sweep_test['FLUX_G'] / sweep_test['MW_TRANSMISSION_G'], zeropoint=22.5)"
   ]
  },
  {
   "cell_type": "code",
   "execution_count": 21,
   "metadata": {},
   "outputs": [
    {
     "data": {
      "text/plain": [
       "True"
      ]
     },
     "execution_count": 21,
     "metadata": {},
     "output_type": "execute_result"
    }
   ],
   "source": [
    "sweep_test['TYPE'][0] == 'PSF'"
   ]
  },
  {
   "cell_type": "code",
   "execution_count": 18,
   "metadata": {},
   "outputs": [
    {
     "data": {
      "text/plain": [
       "array([ True,  True,  True, ...,  True,  True,  True])"
      ]
     },
     "execution_count": 18,
     "metadata": {},
     "output_type": "execute_result"
    }
   ],
   "source": [
    "sweep_test['TYPE'] == 'PSF'"
   ]
  },
  {
   "cell_type": "code",
   "execution_count": 17,
   "metadata": {},
   "outputs": [
    {
     "data": {
      "text/plain": [
       "chararray(['DEV', 'DUP', 'EXP', 'PSF', 'REX', 'SER'], dtype='<U3')"
      ]
     },
     "execution_count": 17,
     "metadata": {},
     "output_type": "execute_result"
    }
   ],
   "source": [
    "np.unique(sweep_test['TYPE'])"
   ]
  },
  {
   "cell_type": "code",
   "execution_count": 13,
   "metadata": {},
   "outputs": [
    {
     "name": "stderr",
     "output_type": "stream",
     "text": [
      "/usr/local/lib/python3.7/site-packages/ipykernel_launcher.py:1: RuntimeWarning: divide by zero encountered in log10\n",
      "  \"\"\"Entry point for launching an IPython kernel.\n",
      "/usr/local/lib/python3.7/site-packages/ipykernel_launcher.py:1: RuntimeWarning: invalid value encountered in log10\n",
      "  \"\"\"Entry point for launching an IPython kernel.\n"
     ]
    },
    {
     "data": {
      "text/plain": [
       "(array([8.0000e+00, 3.3000e+01, 1.9200e+02, 8.9400e+02, 2.5240e+03,\n",
       "        6.2840e+03, 1.3929e+04, 3.5460e+03, 9.5000e+01, 1.4000e+01]),\n",
       " array([ 8.754578, 10.905259, 13.055941, 15.206623, 17.357304, 19.507986,\n",
       "        21.658669, 23.80935 , 25.960032, 28.110712, 30.261395],\n",
       "       dtype=float32),\n",
       " <a list of 10 Patch objects>)"
      ]
     },
     "execution_count": 13,
     "metadata": {},
     "output_type": "execute_result"
    },
    {
     "data": {
      "image/png": "[encoded data removed]",
      "text/plain": [
       "<Figure size 432x288 with 1 Axes>"
      ]
     },
     "metadata": {},
     "output_type": "display_data"
    }
   ],
   "source": [
    "mag_r = -2.5 * np.log10(sweep_test['FLUX_R']) + 22.5\n",
    "\n",
    "plt.hist(mag_r[np.isfinite(mag_r)])"
   ]
  },
  {
   "cell_type": "code",
   "execution_count": 50,
   "metadata": {},
   "outputs": [
    {
     "name": "stdout",
     "output_type": "stream",
     "text": [
      "36778\n"
     ]
    }
   ],
   "source": [
    "print(len(sweep_test))"
   ]
  },
  {
   "cell_type": "code",
   "execution_count": 11,
   "metadata": {},
   "outputs": [
    {
     "name": "stdout",
     "output_type": "stream",
     "text": [
      "['RELEASE', 'BRICKID', 'BRICKNAME', 'OBJID', 'TYPE', 'RA', 'DEC', 'RA_IVAR', 'DEC_IVAR', 'DCHISQ', 'EBV', 'FLUX_G', 'FLUX_R', 'FLUX_Z', 'FLUX_W1', 'FLUX_W2', 'FLUX_W3', 'FLUX_W4', 'FLUX_IVAR_G', 'FLUX_IVAR_R', 'FLUX_IVAR_Z', 'FLUX_IVAR_W1', 'FLUX_IVAR_W2', 'FLUX_IVAR_W3', 'FLUX_IVAR_W4', 'MW_TRANSMISSION_G', 'MW_TRANSMISSION_R', 'MW_TRANSMISSION_Z', 'MW_TRANSMISSION_W1', 'MW_TRANSMISSION_W2', 'MW_TRANSMISSION_W3', 'MW_TRANSMISSION_W4', 'NOBS_G', 'NOBS_R', 'NOBS_Z', 'NOBS_W1', 'NOBS_W2', 'NOBS_W3', 'NOBS_W4', 'RCHISQ_G', 'RCHISQ_R', 'RCHISQ_Z', 'RCHISQ_W1', 'RCHISQ_W2', 'RCHISQ_W3', 'RCHISQ_W4', 'FRACFLUX_G', 'FRACFLUX_R', 'FRACFLUX_Z', 'FRACFLUX_W1', 'FRACFLUX_W2', 'FRACFLUX_W3', 'FRACFLUX_W4', 'FRACMASKED_G', 'FRACMASKED_R', 'FRACMASKED_Z', 'FRACIN_G', 'FRACIN_R', 'FRACIN_Z', 'ANYMASK_G', 'ANYMASK_R', 'ANYMASK_Z', 'ALLMASK_G', 'ALLMASK_R', 'ALLMASK_Z', 'WISEMASK_W1', 'WISEMASK_W2', 'PSFSIZE_G', 'PSFSIZE_R', 'PSFSIZE_Z', 'PSFDEPTH_G', 'PSFDEPTH_R', 'PSFDEPTH_Z', 'GALDEPTH_G', 'GALDEPTH_R', 'GALDEPTH_Z', 'PSFDEPTH_W1', 'PSFDEPTH_W2', 'WISE_COADD_ID', 'LC_FLUX_W1', 'LC_FLUX_W2', 'LC_FLUX_IVAR_W1', 'LC_FLUX_IVAR_W2', 'LC_NOBS_W1', 'LC_NOBS_W2', 'LC_MJD_W1', 'LC_MJD_W2', 'SHAPE_R', 'SHAPE_R_IVAR', 'SHAPE_E1', 'SHAPE_E1_IVAR', 'SHAPE_E2', 'SHAPE_E2_IVAR', 'FIBERFLUX_G', 'FIBERFLUX_R', 'FIBERFLUX_Z', 'FIBERTOTFLUX_G', 'FIBERTOTFLUX_R', 'FIBERTOTFLUX_Z', 'REF_CAT', 'REF_ID', 'REF_EPOCH', 'GAIA_PHOT_G_MEAN_MAG', 'GAIA_PHOT_G_MEAN_FLUX_OVER_ERROR', 'GAIA_PHOT_BP_MEAN_MAG', 'GAIA_PHOT_BP_MEAN_FLUX_OVER_ERROR', 'GAIA_PHOT_RP_MEAN_MAG', 'GAIA_PHOT_RP_MEAN_FLUX_OVER_ERROR', 'GAIA_ASTROMETRIC_EXCESS_NOISE', 'GAIA_DUPLICATED_SOURCE', 'GAIA_PHOT_BP_RP_EXCESS_FACTOR', 'GAIA_ASTROMETRIC_SIGMA5D_MAX', 'GAIA_ASTROMETRIC_PARAMS_SOLVED', 'PARALLAX', 'PARALLAX_IVAR', 'PMRA', 'PMRA_IVAR', 'PMDEC', 'PMDEC_IVAR', 'MASKBITS', 'SERSIC', 'SERSIC_IVAR']\n"
     ]
    }
   ],
   "source": [
    "print(sweep_test.colnames)"
   ]
  },
  {
   "cell_type": "code",
   "execution_count": 14,
   "metadata": {},
   "outputs": [
    {
     "data": {
      "text/plain": [
       "array([0.94814384, 0.94814676, 0.94815373, ..., 0.95754325, 0.9567486 ,\n",
       "       0.9571302 ], dtype=float32)"
      ]
     },
     "execution_count": 14,
     "metadata": {},
     "output_type": "execute_result"
    }
   ],
   "source": [
    "sweep_test['MW_TRANSMISSION_R']"
   ]
  },
  {
   "cell_type": "code",
   "execution_count": 70,
   "metadata": {},
   "outputs": [],
   "source": [
    "def read_healpix_fits(fits_file, nest=True):\n",
    "    \"\"\"Read the FITS format healpix file.\"\"\"\n",
    "    return healpy.read_map(fits_file, nest=nest, dtype=np.bool)\n",
    "    \n",
    "def list_all_sweep_catalogs(sweep_dir, verbose=True):\n",
    "    \"\"\"Gather a list of pathes to all SWEEP catalogs.\"\"\"\n",
    "    sweep_list = glob.glob(sweep_dir + '/sweep*.fits')\n",
    "    if verbose:\n",
    "        print(\"# Find {:d} SWEEP files\".format(len(sweep_list)))\n",
    "    return sweep_list\n",
    "\n",
    "def filter_hsc_fdfc_mask(cat, fdfc_mask, ra='RA', dec='DEC', verbose=True):\n",
    "    \"\"\"Filter a catalog through HSC FDFC mask.\"\"\"\n",
    "    # Read the fits catalog if input is path to the file\n",
    "    if isinstance(s19a_fdfc_mask, str):\n",
    "        cat = Table.read(cat)\n",
    "        \n",
    "    # Read the healpix mask if input is path to the file\n",
    "    if isinstance(fdfc_mask, str):\n",
    "        fdfc_mask = read_healpix_mask(fdfc_mask)\n",
    "    \n",
    "    # Find the matched objects\n",
    "    nside, hp_indices = healpy.get_nside(fdfc_mask), np.where(fdfc_mask)[0]\n",
    "    phi, theta = np.radians(cat[ra]), np.radians(90. - cat[dec])\n",
    "    hp_masked = healpy.ang2pix(nside, theta, phi, nest=True)\n",
    "    select = np.in1d(hp_masked, hp_indices)\n",
    "    \n",
    "    if verbose:\n",
    "        print(\"# Find {:d} objects inside the FDFC region\".format(select.sum()))\n",
    "    \n",
    "    if select.sum() < 1:\n",
    "        return None\n",
    "    return cat[select]"
   ]
  },
  {
   "cell_type": "code",
   "execution_count": 71,
   "metadata": {},
   "outputs": [
    {
     "name": "stdout",
     "output_type": "stream",
     "text": [
      "# Find 50 SWEEP files\n",
      "NSIDE = 1024\n",
      "ORDERING = RING in fits file\n",
      "INDXSCHM = IMPLICIT\n",
      "Ordering converted to NEST\n",
      "# Find 48692 objects inside the FDFC region\n",
      "# Find 23804 objects inside the FDFC region\n",
      "# Find 3461144 objects inside the FDFC region\n",
      "# Find 1486488 objects inside the FDFC region\n",
      "# Find 0 objects inside the FDFC region\n",
      "# Find 0 objects inside the FDFC region\n",
      "# Find 0 objects inside the FDFC region\n",
      "# Find 134507 objects inside the FDFC region\n",
      "# Find 300026 objects inside the FDFC region\n",
      "# Find 1351614 objects inside the FDFC region\n",
      "# Find 2761847 objects inside the FDFC region\n",
      "# Find 0 objects inside the FDFC region\n",
      "# Find 0 objects inside the FDFC region\n",
      "# Find 0 objects inside the FDFC region\n",
      "# Find 132510 objects inside the FDFC region\n",
      "# Find 262544 objects inside the FDFC region\n",
      "# Find 0 objects inside the FDFC region\n",
      "# Find 0 objects inside the FDFC region\n",
      "# Find 0 objects inside the FDFC region\n",
      "# Find 0 objects inside the FDFC region\n",
      "# Find 0 objects inside the FDFC region\n",
      "# Find 0 objects inside the FDFC region\n",
      "# Find 0 objects inside the FDFC region\n",
      "# Find 747699 objects inside the FDFC region\n",
      "# Find 1003807 objects inside the FDFC region\n",
      "# Find 770661 objects inside the FDFC region\n",
      "# Find 1102317 objects inside the FDFC region\n",
      "# Find 0 objects inside the FDFC region\n",
      "# Find 0 objects inside the FDFC region\n",
      "# Find 0 objects inside the FDFC region\n",
      "# Find 0 objects inside the FDFC region\n",
      "# Find 0 objects inside the FDFC region\n",
      "# Find 0 objects inside the FDFC region\n",
      "# Find 1198315 objects inside the FDFC region\n",
      "# Find 930059 objects inside the FDFC region\n",
      "# Find 0 objects inside the FDFC region\n",
      "# Find 0 objects inside the FDFC region\n",
      "# Find 572276 objects inside the FDFC region\n",
      "# Find 406873 objects inside the FDFC region\n",
      "# Find 0 objects inside the FDFC region\n",
      "# Find 0 objects inside the FDFC region\n",
      "# Find 0 objects inside the FDFC region\n",
      "# Find 0 objects inside the FDFC region\n",
      "# Find 0 objects inside the FDFC region\n",
      "# Find 0 objects inside the FDFC region\n",
      "# Find 0 objects inside the FDFC region\n",
      "# Find 0 objects inside the FDFC region\n",
      "# Find 0 objects inside the FDFC region\n",
      "# Find 0 objects inside the FDFC region\n",
      "# Find 0 objects inside the FDFC region\n"
     ]
    }
   ],
   "source": [
    "sweep_list = list_all_sweep_catalogs(sweep_dir)\n",
    "\n",
    "s19a_fdfc = read_healpix_mask(s19a_fdfc_mask)\n",
    "\n",
    "matches = [filter_hsc_fdfc_mask(sweep, s19a_fdfc) for sweep in sweep_list]"
   ]
  },
  {
   "cell_type": "code",
   "execution_count": 74,
   "metadata": {},
   "outputs": [
    {
     "name": "stdout",
     "output_type": "stream",
     "text": [
      "18\n"
     ]
    }
   ],
   "source": [
    "matches_use = list(filter(None, matches)) \n",
    "\n",
    "print(len(matches_use))"
   ]
  },
  {
   "cell_type": "code",
   "execution_count": 76,
   "metadata": {},
   "outputs": [
    {
     "name": "stderr",
     "output_type": "stream",
     "text": [
      "WARNING: MergeConflictWarning: Cannot merge meta key 'DECMAX' types <class 'float'> and <class 'float'>, choosing DECMAX=-5.0 [astropy.utils.metadata]\n",
      "WARNING: MergeConflictWarning: Cannot merge meta key 'DECMIN' types <class 'float'> and <class 'float'>, choosing DECMIN=-10.0 [astropy.utils.metadata]\n",
      "WARNING: MergeConflictWarning: Cannot merge meta key 'DECMAX' types <class 'float'> and <class 'float'>, choosing DECMAX=0.0 [astropy.utils.metadata]\n",
      "WARNING: MergeConflictWarning: Cannot merge meta key 'DECMIN' types <class 'float'> and <class 'float'>, choosing DECMIN=-5.0 [astropy.utils.metadata]\n",
      "WARNING: MergeConflictWarning: Cannot merge meta key 'RAMAX' types <class 'float'> and <class 'float'>, choosing RAMAX=40.0 [astropy.utils.metadata]\n",
      "WARNING: MergeConflictWarning: Cannot merge meta key 'RAMIN' types <class 'float'> and <class 'float'>, choosing RAMIN=30.0 [astropy.utils.metadata]\n",
      "WARNING: MergeConflictWarning: Cannot merge meta key 'RAMAX' types <class 'float'> and <class 'float'>, choosing RAMAX=130.0 [astropy.utils.metadata]\n",
      "WARNING: MergeConflictWarning: Cannot merge meta key 'RAMIN' types <class 'float'> and <class 'float'>, choosing RAMIN=120.0 [astropy.utils.metadata]\n",
      "WARNING: MergeConflictWarning: Cannot merge meta key 'DECMAX' types <class 'float'> and <class 'float'>, choosing DECMAX=5.0 [astropy.utils.metadata]\n",
      "WARNING: MergeConflictWarning: Cannot merge meta key 'DECMIN' types <class 'float'> and <class 'float'>, choosing DECMIN=0.0 [astropy.utils.metadata]\n",
      "WARNING: MergeConflictWarning: Cannot merge meta key 'RAMAX' types <class 'float'> and <class 'float'>, choosing RAMAX=140.0 [astropy.utils.metadata]\n",
      "WARNING: MergeConflictWarning: Cannot merge meta key 'RAMIN' types <class 'float'> and <class 'float'>, choosing RAMIN=130.0 [astropy.utils.metadata]\n",
      "WARNING: MergeConflictWarning: Cannot merge meta key 'RAMAX' types <class 'float'> and <class 'float'>, choosing RAMAX=150.0 [astropy.utils.metadata]\n",
      "WARNING: MergeConflictWarning: Cannot merge meta key 'RAMIN' types <class 'float'> and <class 'float'>, choosing RAMIN=140.0 [astropy.utils.metadata]\n",
      "WARNING: MergeConflictWarning: Cannot merge meta key 'RAMAX' types <class 'float'> and <class 'float'>, choosing RAMAX=180.0 [astropy.utils.metadata]\n",
      "WARNING: MergeConflictWarning: Cannot merge meta key 'RAMIN' types <class 'float'> and <class 'float'>, choosing RAMIN=170.0 [astropy.utils.metadata]\n",
      "WARNING: MergeConflictWarning: Cannot merge meta key 'RAMAX' types <class 'float'> and <class 'float'>, choosing RAMAX=190.0 [astropy.utils.metadata]\n",
      "WARNING: MergeConflictWarning: Cannot merge meta key 'RAMIN' types <class 'float'> and <class 'float'>, choosing RAMIN=180.0 [astropy.utils.metadata]\n",
      "WARNING: MergeConflictWarning: Cannot merge meta key 'RAMAX' types <class 'float'> and <class 'float'>, choosing RAMAX=220.0 [astropy.utils.metadata]\n",
      "WARNING: MergeConflictWarning: Cannot merge meta key 'RAMIN' types <class 'float'> and <class 'float'>, choosing RAMIN=210.0 [astropy.utils.metadata]\n",
      "WARNING: MergeConflictWarning: Cannot merge meta key 'RAMAX' types <class 'float'> and <class 'float'>, choosing RAMAX=230.0 [astropy.utils.metadata]\n",
      "WARNING: MergeConflictWarning: Cannot merge meta key 'RAMIN' types <class 'float'> and <class 'float'>, choosing RAMIN=220.0 [astropy.utils.metadata]\n"
     ]
    }
   ],
   "source": [
    "dr9sv_matches = vstack(matches_use)"
   ]
  },
  {
   "cell_type": "code",
   "execution_count": 77,
   "metadata": {},
   "outputs": [
    {
     "data": {
      "text/plain": [
       "16695183"
      ]
     },
     "execution_count": 77,
     "metadata": {},
     "output_type": "execute_result"
    }
   ],
   "source": [
    "len(dr9sv_matches)"
   ]
  },
  {
   "cell_type": "code",
   "execution_count": null,
   "metadata": {},
   "outputs": [],
   "source": [
    "dr9sv_matches.write('/Volumes/astro5/massive/decals/dr9sv/dr9sv_sweep_s19a_fdfc_all.fits')"
   ]
  },
  {
   "cell_type": "code",
   "execution_count": null,
   "metadata": {},
   "outputs": [],
   "source": []
  }
 ],
 "metadata": {
  "kernelspec": {
   "display_name": "Python 3",
   "language": "python",
   "name": "python3"
  },
  "language_info": {
   "codemirror_mode": {
    "name": "ipython",
    "version": 3
   },
   "file_extension": ".py",
   "mimetype": "text/x-python",
   "name": "python",
   "nbconvert_exporter": "python",
   "pygments_lexer": "ipython3",
   "version": "3.7.7"
  }
 },
 "nbformat": 4,
 "nbformat_minor": 4
}
