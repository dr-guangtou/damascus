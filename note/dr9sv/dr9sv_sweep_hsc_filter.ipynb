{
 "cells": [
  {
   "cell_type": "code",
   "execution_count": 29,
   "metadata": {},
   "outputs": [
    {
     "name": "stdout",
     "output_type": "stream",
     "text": [
      "The autoreload extension is already loaded. To reload it, use:\n",
      "  %reload_ext autoreload\n"
     ]
    }
   ],
   "source": [
    "%matplotlib inline\n",
    "%load_ext autoreload\n",
    "%autoreload 2\n",
    "\n",
    "import os\n",
    "import glob\n",
    "\n",
    "import healpy\n",
    "\n",
    "import numpy as np\n",
    "\n",
    "from astropy.table import Table\n",
    "from astropy.io import fits"
   ]
  },
  {
   "cell_type": "markdown",
   "metadata": {},
   "source": [
    "# Filter DECaLS Sweep catalog through HSC FDFC healpix mask\n",
    "\n",
    "- Using local DR9SV catalog as a test\n",
    "- Filter through HSC S19A internal release"
   ]
  },
  {
   "cell_type": "code",
   "execution_count": 64,
   "metadata": {},
   "outputs": [],
   "source": [
    "sweep_dir = '/Volumes/astro5/massive/decals/dr9sv/sweep/'\n",
    "\n",
    "hsc_dir = '/Volumes/astro5/massive/s19a/'\n",
    "\n",
    "s19a_fdfc_mask = os.path.join(\n",
    "    hsc_dir, 'mask/fdfc/s19a_fdfc_hp_contarea_izy-gt-5_trimmed.fits')"
   ]
  },
  {
   "cell_type": "markdown",
   "metadata": {},
   "source": [
    "### Find all the sweep catalog"
   ]
  },
  {
   "cell_type": "code",
   "execution_count": 8,
   "metadata": {},
   "outputs": [],
   "source": [
    "sweep_list = glob.glob(sweep_dir + '/sweep*.fits')"
   ]
  },
  {
   "cell_type": "code",
   "execution_count": 49,
   "metadata": {},
   "outputs": [],
   "source": [
    "sweep_test = Table.read(sweep_list[-1])"
   ]
  },
  {
   "cell_type": "code",
   "execution_count": 50,
   "metadata": {},
   "outputs": [
    {
     "name": "stdout",
     "output_type": "stream",
     "text": [
      "36778\n"
     ]
    }
   ],
   "source": [
    "print(len(sweep_test))"
   ]
  },
  {
   "cell_type": "code",
   "execution_count": 11,
   "metadata": {},
   "outputs": [
    {
     "name": "stdout",
     "output_type": "stream",
     "text": [
      "['RELEASE', 'BRICKID', 'BRICKNAME', 'OBJID', 'TYPE', 'RA', 'DEC', 'RA_IVAR', 'DEC_IVAR', 'DCHISQ', 'EBV', 'FLUX_G', 'FLUX_R', 'FLUX_Z', 'FLUX_W1', 'FLUX_W2', 'FLUX_W3', 'FLUX_W4', 'FLUX_IVAR_G', 'FLUX_IVAR_R', 'FLUX_IVAR_Z', 'FLUX_IVAR_W1', 'FLUX_IVAR_W2', 'FLUX_IVAR_W3', 'FLUX_IVAR_W4', 'MW_TRANSMISSION_G', 'MW_TRANSMISSION_R', 'MW_TRANSMISSION_Z', 'MW_TRANSMISSION_W1', 'MW_TRANSMISSION_W2', 'MW_TRANSMISSION_W3', 'MW_TRANSMISSION_W4', 'NOBS_G', 'NOBS_R', 'NOBS_Z', 'NOBS_W1', 'NOBS_W2', 'NOBS_W3', 'NOBS_W4', 'RCHISQ_G', 'RCHISQ_R', 'RCHISQ_Z', 'RCHISQ_W1', 'RCHISQ_W2', 'RCHISQ_W3', 'RCHISQ_W4', 'FRACFLUX_G', 'FRACFLUX_R', 'FRACFLUX_Z', 'FRACFLUX_W1', 'FRACFLUX_W2', 'FRACFLUX_W3', 'FRACFLUX_W4', 'FRACMASKED_G', 'FRACMASKED_R', 'FRACMASKED_Z', 'FRACIN_G', 'FRACIN_R', 'FRACIN_Z', 'ANYMASK_G', 'ANYMASK_R', 'ANYMASK_Z', 'ALLMASK_G', 'ALLMASK_R', 'ALLMASK_Z', 'WISEMASK_W1', 'WISEMASK_W2', 'PSFSIZE_G', 'PSFSIZE_R', 'PSFSIZE_Z', 'PSFDEPTH_G', 'PSFDEPTH_R', 'PSFDEPTH_Z', 'GALDEPTH_G', 'GALDEPTH_R', 'GALDEPTH_Z', 'PSFDEPTH_W1', 'PSFDEPTH_W2', 'WISE_COADD_ID', 'LC_FLUX_W1', 'LC_FLUX_W2', 'LC_FLUX_IVAR_W1', 'LC_FLUX_IVAR_W2', 'LC_NOBS_W1', 'LC_NOBS_W2', 'LC_MJD_W1', 'LC_MJD_W2', 'SHAPE_R', 'SHAPE_R_IVAR', 'SHAPE_E1', 'SHAPE_E1_IVAR', 'SHAPE_E2', 'SHAPE_E2_IVAR', 'FIBERFLUX_G', 'FIBERFLUX_R', 'FIBERFLUX_Z', 'FIBERTOTFLUX_G', 'FIBERTOTFLUX_R', 'FIBERTOTFLUX_Z', 'REF_CAT', 'REF_ID', 'REF_EPOCH', 'GAIA_PHOT_G_MEAN_MAG', 'GAIA_PHOT_G_MEAN_FLUX_OVER_ERROR', 'GAIA_PHOT_BP_MEAN_MAG', 'GAIA_PHOT_BP_MEAN_FLUX_OVER_ERROR', 'GAIA_PHOT_RP_MEAN_MAG', 'GAIA_PHOT_RP_MEAN_FLUX_OVER_ERROR', 'GAIA_ASTROMETRIC_EXCESS_NOISE', 'GAIA_DUPLICATED_SOURCE', 'GAIA_PHOT_BP_RP_EXCESS_FACTOR', 'GAIA_ASTROMETRIC_SIGMA5D_MAX', 'GAIA_ASTROMETRIC_PARAMS_SOLVED', 'PARALLAX', 'PARALLAX_IVAR', 'PMRA', 'PMRA_IVAR', 'PMDEC', 'PMDEC_IVAR', 'MASKBITS', 'SERSIC', 'SERSIC_IVAR']\n"
     ]
    }
   ],
   "source": [
    "print(sweep_test.colnames)"
   ]
  },
  {
   "cell_type": "code",
   "execution_count": 70,
   "metadata": {},
   "outputs": [],
   "source": [
    "def read_healpix_mask(mask_file):\n",
    "    \"\"\"Read the FITS format healpix FDFC mask.\"\"\"\n",
    "    return healpy.read_map(mask_file, nest=True, dtype=np.bool)\n",
    "    \n",
    "def list_all_sweep_catalogs(sweep_dir, verbose=True):\n",
    "    \"\"\"Gather a list of pathes to all SWEEP catalogs.\"\"\"\n",
    "    sweep_list = glob.glob(sweep_dir + '/sweep*.fits')\n",
    "    if verbose:\n",
    "        print(\"# Find {:d} SWEEP files\".format(len(sweep_list)))\n",
    "    return sweep_list\n",
    "\n",
    "def filter_hsc_fdfc_mask(cat, fdfc_mask, ra='RA', dec='DEC', verbose=True):\n",
    "    \"\"\"Filter a catalog through HSC FDFC mask.\"\"\"\n",
    "    # Read the fits catalog if input is path to the file\n",
    "    if isinstance(s19a_fdfc_mask, str):\n",
    "        cat = Table.read(cat)\n",
    "        \n",
    "    # Read the healpix mask if input is path to the file\n",
    "    if isinstance(fdfc_mask, str):\n",
    "        fdfc_mask = read_healpix_mask(fdfc_mask)\n",
    "    \n",
    "    # Find the matched objects\n",
    "    nside, hp_indices = healpy.get_nside(fdfc_mask), np.where(fdfc_mask)[0]\n",
    "    phi, theta = np.radians(cat[ra]), np.radians(90. - cat[dec])\n",
    "    hp_masked = healpy.ang2pix(nside, theta, phi, nest=True)\n",
    "    select = np.in1d(hp_masked, hp_indices)\n",
    "    \n",
    "    if verbose:\n",
    "        print(\"# Find {:d} objects inside the FDFC region\".format(select.sum()))\n",
    "    \n",
    "    if select.sum() < 1:\n",
    "        return None\n",
    "    return cat[select]"
   ]
  },
  {
   "cell_type": "code",
   "execution_count": null,
   "metadata": {},
   "outputs": [
    {
     "name": "stdout",
     "output_type": "stream",
     "text": [
      "# Find 50 SWEEP files\n",
      "NSIDE = 1024\n",
      "ORDERING = RING in fits file\n",
      "INDXSCHM = IMPLICIT\n",
      "Ordering converted to NEST\n",
      "# Find 48692 objects inside the FDFC region\n",
      "# Find 23804 objects inside the FDFC region\n",
      "# Find 3461144 objects inside the FDFC region\n",
      "# Find 1486488 objects inside the FDFC region\n",
      "# Find 0 objects inside the FDFC region\n",
      "# Find 0 objects inside the FDFC region\n",
      "# Find 0 objects inside the FDFC region\n",
      "# Find 134507 objects inside the FDFC region\n",
      "# Find 300026 objects inside the FDFC region\n"
     ]
    }
   ],
   "source": [
    "sweep_list = list_all_sweep_catalogs(sweep_dir)\n",
    "\n",
    "s19a_fdfc = read_healpix_mask(s19a_fdfc_mask)\n",
    "\n",
    "matches = [filter_hsc_fdfc_mask(sweep, s19a_fdfc) for sweep in sweep_list]"
   ]
  },
  {
   "cell_type": "code",
   "execution_count": null,
   "metadata": {},
   "outputs": [],
   "source": []
  }
 ],
 "metadata": {
  "kernelspec": {
   "display_name": "Python 3",
   "language": "python",
   "name": "python3"
  },
  "language_info": {
   "codemirror_mode": {
    "name": "ipython",
    "version": 3
   },
   "file_extension": ".py",
   "mimetype": "text/x-python",
   "name": "python",
   "nbconvert_exporter": "python",
   "pygments_lexer": "ipython3",
   "version": "3.7.7"
  }
 },
 "nbformat": 4,
 "nbformat_minor": 4
}
