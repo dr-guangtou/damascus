{
 "cells": [
  {
   "cell_type": "code",
   "execution_count": 57,
   "id": "cb539683-076c-43c3-9758-99f9953c0c5e",
   "metadata": {},
   "outputs": [
    {
     "name": "stdout",
     "output_type": "stream",
     "text": [
      "The autoreload extension is already loaded. To reload it, use:\n",
      "  %reload_ext autoreload\n"
     ]
    }
   ],
   "source": [
    "%matplotlib inline\n",
    "%load_ext autoreload\n",
    "%autoreload 2\n",
    "\n",
    "import os\n",
    "import sys\n",
    "import glob\n",
    "import pickle\n",
    "\n",
    "import scipy\n",
    "import numpy as np\n",
    "\n",
    "from astropy.io import fits\n",
    "from astropy.table import Table, Column, vstack, hstack\n",
    "from astropy.stats import sigma_clipped_stats, sigma_clip\n",
    "\n",
    "import matplotlib as mpl\n",
    "from matplotlib import pyplot as plt"
   ]
  },
  {
   "cell_type": "markdown",
   "id": "bd97341b-6b0f-437f-b7c2-d70ce006a57a",
   "metadata": {},
   "source": [
    "## DECaLS COSMOS Catalogs\n",
    "\n",
    "- The RA, Dec boundaries are: RA= [149.22484, 150.81303], Dec=[1.541319, 2.87744]"
   ]
  },
  {
   "cell_type": "code",
   "execution_count": 48,
   "id": "b32203df-cb9d-44c1-a3bc-7d4e5e03d256",
   "metadata": {},
   "outputs": [
    {
     "name": "stdout",
     "output_type": "stream",
     "text": [
      "4142555 4070265\n"
     ]
    }
   ],
   "source": [
    "decals_dir = '/Users/song/Downloads/'\n",
    "\n",
    "tr_1 = Table.read(os.path.join(decals_dir, 'sweep-140p000-150p005.fits'))\n",
    "tr_2 = Table.read(os.path.join(decals_dir, 'sweep-150p000-160p005.fits'))\n",
    "\n",
    "pz_1 = Table.read(os.path.join(decals_dir, 'sweep-140p000-150p005-pz.fits'))\n",
    "pz_2 = Table.read(os.path.join(decals_dir, 'sweep-150p000-160p005-pz.fits'))\n",
    "\n",
    "print(len(tr_1), len(tr_2))"
   ]
  },
  {
   "cell_type": "code",
   "execution_count": 63,
   "id": "566e12b0-40a4-4c99-b465-b1165359732f",
   "metadata": {},
   "outputs": [],
   "source": [
    "ra_min, ra_max = 149.22484, 150.81303\n",
    "dec_min, dec_max = 1.541319, 2.87744 "
   ]
  },
  {
   "cell_type": "code",
   "execution_count": 54,
   "id": "cea847fe-a13a-42dd-bb05-8aea1c7f57b3",
   "metadata": {},
   "outputs": [
    {
     "name": "stdout",
     "output_type": "stream",
     "text": [
      "['RELEASE', 'BRICKID', 'BRICKNAME', 'OBJID', 'TYPE', 'RA', 'DEC', 'RA_IVAR', 'DEC_IVAR', 'DCHISQ', 'EBV', 'FLUX_G', 'FLUX_R', 'FLUX_Z', 'FLUX_W1', 'FLUX_W2', 'FLUX_W3', 'FLUX_W4', 'FLUX_IVAR_G', 'FLUX_IVAR_R', 'FLUX_IVAR_Z', 'FLUX_IVAR_W1', 'FLUX_IVAR_W2', 'FLUX_IVAR_W3', 'FLUX_IVAR_W4', 'MW_TRANSMISSION_G', 'MW_TRANSMISSION_R', 'MW_TRANSMISSION_Z', 'MW_TRANSMISSION_W1', 'MW_TRANSMISSION_W2', 'MW_TRANSMISSION_W3', 'MW_TRANSMISSION_W4', 'NOBS_G', 'NOBS_R', 'NOBS_Z', 'NOBS_W1', 'NOBS_W2', 'NOBS_W3', 'NOBS_W4', 'RCHISQ_G', 'RCHISQ_R', 'RCHISQ_Z', 'RCHISQ_W1', 'RCHISQ_W2', 'RCHISQ_W3', 'RCHISQ_W4', 'FRACFLUX_G', 'FRACFLUX_R', 'FRACFLUX_Z', 'FRACFLUX_W1', 'FRACFLUX_W2', 'FRACFLUX_W3', 'FRACFLUX_W4', 'FRACMASKED_G', 'FRACMASKED_R', 'FRACMASKED_Z', 'FRACIN_G', 'FRACIN_R', 'FRACIN_Z', 'ANYMASK_G', 'ANYMASK_R', 'ANYMASK_Z', 'ALLMASK_G', 'ALLMASK_R', 'ALLMASK_Z', 'WISEMASK_W1', 'WISEMASK_W2', 'PSFSIZE_G', 'PSFSIZE_R', 'PSFSIZE_Z', 'PSFDEPTH_G', 'PSFDEPTH_R', 'PSFDEPTH_Z', 'GALDEPTH_G', 'GALDEPTH_R', 'GALDEPTH_Z', 'PSFDEPTH_W1', 'PSFDEPTH_W2', 'WISE_COADD_ID', 'SHAPE_R', 'SHAPE_R_IVAR', 'SHAPE_E1', 'SHAPE_E1_IVAR', 'SHAPE_E2', 'SHAPE_E2_IVAR', 'FIBERFLUX_G', 'FIBERFLUX_R', 'FIBERFLUX_Z', 'FIBERTOTFLUX_G', 'FIBERTOTFLUX_R', 'FIBERTOTFLUX_Z', 'REF_CAT', 'REF_ID', 'REF_EPOCH', 'GAIA_PHOT_G_MEAN_MAG', 'GAIA_PHOT_G_MEAN_FLUX_OVER_ERROR', 'GAIA_PHOT_BP_MEAN_MAG', 'GAIA_PHOT_BP_MEAN_FLUX_OVER_ERROR', 'GAIA_PHOT_RP_MEAN_MAG', 'GAIA_PHOT_RP_MEAN_FLUX_OVER_ERROR', 'GAIA_ASTROMETRIC_EXCESS_NOISE', 'GAIA_DUPLICATED_SOURCE', 'GAIA_PHOT_BP_RP_EXCESS_FACTOR', 'GAIA_ASTROMETRIC_SIGMA5D_MAX', 'GAIA_ASTROMETRIC_PARAMS_SOLVED', 'PARALLAX', 'PARALLAX_IVAR', 'PMRA', 'PMRA_IVAR', 'PMDEC', 'PMDEC_IVAR', 'MASKBITS', 'FITBITS', 'SERSIC', 'SERSIC_IVAR']\n"
     ]
    }
   ],
   "source": [
    "print(tr_1.colnames)"
   ]
  },
  {
   "cell_type": "code",
   "execution_count": 55,
   "id": "05226bfe-4906-4aa2-ab93-9bfd240f8204",
   "metadata": {},
   "outputs": [
    {
     "name": "stdout",
     "output_type": "stream",
     "text": [
      "['RELEASE', 'BRICKID', 'OBJID', 'Z_PHOT_MEAN', 'Z_PHOT_MEDIAN', 'Z_PHOT_STD', 'Z_PHOT_L68', 'Z_PHOT_U68', 'Z_PHOT_L95', 'Z_PHOT_U95', 'Z_SPEC', 'SURVEY', 'TRAINING']\n"
     ]
    }
   ],
   "source": [
    "print(pz_1.colnames)"
   ]
  },
  {
   "cell_type": "code",
   "execution_count": 56,
   "id": "97cb8816-8005-4ed9-80b9-213a7a52e3ca",
   "metadata": {},
   "outputs": [],
   "source": [
    "pz_1.rename_column('RELEASE', 'RELEASE_PZ')\n",
    "pz_1.rename_column('BRICKID', 'BRICKID_PZ')\n",
    "pz_1.rename_column('OBJID', 'OBJID_PZ')\n",
    "\n",
    "pz_2.rename_column('RELEASE', 'RELEASE_PZ')\n",
    "pz_2.rename_column('BRICKID', 'BRICKID_PZ')\n",
    "pz_2.rename_column('OBJID', 'OBJID_PZ')"
   ]
  },
  {
   "cell_type": "code",
   "execution_count": 60,
   "id": "f0080dc3-4667-4de4-a9ce-296f4eeae0e0",
   "metadata": {},
   "outputs": [],
   "source": [
    "decals_comb = vstack([hstack([tr_1, pz_1]), hstack([tr_2, pz_2])])\n",
    "\n",
    "assert np.all(a['RELEASE'] == a['RELEASE_PZ'])\n",
    "assert np.all(a['BRICKID'] == a['BRICKID_PZ'])\n",
    "assert np.all(a['OBJID'] == a['OBJID_PZ'])"
   ]
  },
  {
   "cell_type": "code",
   "execution_count": 64,
   "id": "7dd681be-9946-42c7-8183-cef79d82b571",
   "metadata": {},
   "outputs": [
    {
     "name": "stdout",
     "output_type": "stream",
     "text": [
      "184140\n"
     ]
    }
   ],
   "source": [
    "cos_mask = (\n",
    "    (decals_comb['RA'] >= ra_min) & (decals_comb['RA'] <= ra_max) &\n",
    "    (decals_comb['DEC'] >= dec_min) & (decals_comb['DEC'] <= dec_max)\n",
    ")\n",
    "\n",
    "decals_cos = decals_comb[cos_mask]\n",
    "\n",
    "print(len(decals_cos))"
   ]
  },
  {
   "cell_type": "code",
   "execution_count": 65,
   "id": "82ac6b22-d782-4d10-ba95-38b09a495688",
   "metadata": {},
   "outputs": [],
   "source": [
    "decals_cos.remove_columns(['RELEASE_PZ', 'BRICKID_PZ', 'OBJID_PZ'])"
   ]
  },
  {
   "cell_type": "code",
   "execution_count": 66,
   "id": "9424f19e-1b5a-4ba8-998c-250b90b0c505",
   "metadata": {},
   "outputs": [
    {
     "name": "stderr",
     "output_type": "stream",
     "text": [
      "WARNING: UnitsWarning: '1/deg^2' did not parse as fits unit: Numeric factor not supported by FITS If this is meant to be a custom unit, define it with 'u.def_unit'. To have it recognized inside a file reader or other code, enable it with 'u.add_enabled_units'. For details, see https://docs.astropy.org/en/latest/units/combining_and_defining.html [astropy.units.core]\n",
      "WARNING: UnitsWarning: 'nanomaggy' did not parse as fits unit: At col 0, Unit 'nanomaggy' not supported by the FITS standard.  If this is meant to be a custom unit, define it with 'u.def_unit'. To have it recognized inside a file reader or other code, enable it with 'u.add_enabled_units'. For details, see https://docs.astropy.org/en/latest/units/combining_and_defining.html [astropy.units.core]\n",
      "WARNING: UnitsWarning: '1/nanomaggy^2' did not parse as fits unit: Numeric factor not supported by FITS If this is meant to be a custom unit, define it with 'u.def_unit'. To have it recognized inside a file reader or other code, enable it with 'u.add_enabled_units'. For details, see https://docs.astropy.org/en/latest/units/combining_and_defining.html [astropy.units.core]\n",
      "WARNING: UnitsWarning: '1/arcsec^2' did not parse as fits unit: Numeric factor not supported by FITS If this is meant to be a custom unit, define it with 'u.def_unit'. To have it recognized inside a file reader or other code, enable it with 'u.add_enabled_units'. For details, see https://docs.astropy.org/en/latest/units/combining_and_defining.html [astropy.units.core]\n",
      "WARNING: UnitsWarning: '1/mas^2' did not parse as fits unit: Numeric factor not supported by FITS If this is meant to be a custom unit, define it with 'u.def_unit'. To have it recognized inside a file reader or other code, enable it with 'u.add_enabled_units'. For details, see https://docs.astropy.org/en/latest/units/combining_and_defining.html [astropy.units.core]\n",
      "WARNING: UnitsWarning: '1/(mas/yr)^2' did not parse as fits unit: Numeric factor not supported by FITS If this is meant to be a custom unit, define it with 'u.def_unit'. To have it recognized inside a file reader or other code, enable it with 'u.add_enabled_units'. For details, see https://docs.astropy.org/en/latest/units/combining_and_defining.html [astropy.units.core]\n"
     ]
    }
   ],
   "source": [
    "decals_cos.write(os.path.join(decals_dir, 'decals_tractor_photoz_cosmos2020_hsc.fits'))"
   ]
  },
  {
   "cell_type": "code",
   "execution_count": 74,
   "id": "1180ffc8-d0bc-43f1-80fb-7282ed1b0b03",
   "metadata": {},
   "outputs": [
    {
     "name": "stdout",
     "output_type": "stream",
     "text": [
      "176523\n",
      "136152\n"
     ]
    }
   ],
   "source": [
    "mask_valid = (\n",
    "    (decals_cos['NOBS_G'] > 1) & (decals_cos['NOBS_R'] > 1) & (decals_cos['NOBS_Z'] > 1) & \n",
    "    (decals_cos['FLUX_IVAR_G'] > 0) & (decals_cos['FLUX_IVAR_R'] > 0) & (decals_cos['FLUX_IVAR_Z'] > 0) &\n",
    "    (decals_cos['FLUX_G'] > 0) & (decals_cos['FLUX_R'] > 0) & (decals_cos['FLUX_Z'] > 0) &\n",
    "    (decals_cos['Z_PHOT_MEAN'] >= 0.0) & (decals_cos['Z_PHOT_MEAN'] <= 7.0)\n",
    ")\n",
    "\n",
    "print(mask_valid.sum())\n",
    "\n",
    "mask_good = (\n",
    "    (decals_cos['NOBS_G'] >= 3) & (decals_cos['NOBS_R'] >= 3) & (decals_cos['NOBS_Z'] >= 3) & \n",
    "    (decals_cos['FLUX_IVAR_G'] > 0) & (decals_cos['FLUX_IVAR_R'] > 0) & (decals_cos['FLUX_IVAR_Z'] > 0) &\n",
    "    (decals_cos['FLUX_G'] > 0) & (decals_cos['FLUX_R'] > 0) & (decals_cos['FLUX_Z'] > 0) &\n",
    "    (decals_cos['Z_PHOT_MEAN'] >= 0.0) & (decals_cos['Z_PHOT_MEAN'] <= 7.0)\n",
    ")\n",
    "\n",
    "print(mask_good.sum())\n",
    "\n",
    "decals_valid = decals_cos[mask_valid]\n",
    "decals_good = decals_cos[mask_good]"
   ]
  },
  {
   "cell_type": "code",
   "execution_count": 90,
   "id": "3dd7af6b-89c2-4187-8af0-a69fcc4223dd",
   "metadata": {},
   "outputs": [
    {
     "name": "stderr",
     "output_type": "stream",
     "text": [
      "/tmp/ipykernel_89889/2500048066.py:5: MatplotlibDeprecationWarning: Auto-removal of grids by pcolor() and pcolormesh() is deprecated since 3.5 and will be removed two minor releases later; please call grid(False) first.\n",
      "  ax.hist2d(\n"
     ]
    },
    {
     "data": {
      "image/png": "[encoded data removed]",
      "text/plain": [
       "<Figure size 504x432 with 1 Axes>"
      ]
     },
     "metadata": {
      "needs_background": "light"
     },
     "output_type": "display_data"
    }
   ],
   "source": [
    "fig = plt.figure(figsize=(7, 6))\n",
    "ax = plt.subplot(111)\n",
    "\n",
    "# 2-D histogram\n",
    "ax.hist2d(\n",
    "    decals_good['Z_PHOT_MEAN'], -2.5 * np.log10(decals_good['FLUX_R']) + 22.5, \n",
    "    bins=(100, 100), cmin=1, cmap='viridis', norm=mpl.colors.LogNorm())\n",
    "\n",
    "ax.grid(linestyle='--', linewidth=2, alpha=0.6)\n",
    "\n",
    "_ = ax.set_xlim(-0.05, 1.5)\n",
    "_ = ax.set_ylim(14.9, 27.9)\n",
    "\n",
    "_ = ax.set_xlabel(r'$\\rm Redshift$', fontsize=25)\n",
    "_ = ax.set_ylabel(r'$r_{\\rm Tractor}\\ [\\rm mag]$', fontsize=25)"
   ]
  },
  {
   "cell_type": "code",
   "execution_count": 84,
   "id": "b6cc5458-f0e4-4eea-857d-2f0d26d4498d",
   "metadata": {},
   "outputs": [
    {
     "data": {
      "text/plain": [
       "10823"
      ]
     },
     "execution_count": 84,
     "metadata": {},
     "output_type": "execute_result"
    }
   ],
   "source": [
    "((decals_valid['Z_PHOT_L68'] >= 0.05) & (decals_valid['Z_PHOT_U68'] <= 0.45)).sum()"
   ]
  },
  {
   "cell_type": "markdown",
   "id": "a090ce37-e6a7-4d46-b0c6-9533fb19f214",
   "metadata": {},
   "source": [
    "## COSMOS 2020 Farmer Catalog\n",
    "\n",
    "- [The COSMOS2020 catalog](https://astroweaver.github.io/project/cosmos2020-galaxy-catalog/)\n",
    "    - [COSMOS2020: A panchromatic view of the Universe to z∼10 from two complementary catalogs](https://arxiv.org/abs/2110.13923)"
   ]
  },
  {
   "cell_type": "code",
   "execution_count": 2,
   "id": "3c9b35fa-b849-498b-9b11-bb72bb31eee5",
   "metadata": {},
   "outputs": [
    {
     "data": {
      "text/plain": [
       "['/Users/song/work/cosmos2020/COSMOS2020_R1/COSMOS2020_FARMER_R1_v2.0.fits',\n",
       " '/Users/song/work/cosmos2020/COSMOS2020_R1/COSMOS2020_CLASSIC_R1_v2.0.fits']"
      ]
     },
     "execution_count": 2,
     "metadata": {},
     "output_type": "execute_result"
    }
   ],
   "source": [
    "cosmos_dir = '/Users/song/work/cosmos2020/COSMOS2020_R1/'\n",
    "\n",
    "glob.glob(cosmos_dir + '*.fits')"
   ]
  },
  {
   "cell_type": "markdown",
   "id": "859da038-7e17-413d-90fb-051daa4dcbe9",
   "metadata": {},
   "source": [
    "- We are going to make use of the `FARMER` catalog based on the `Tractor` code\n",
    "    - Since that's also the code used for LegacySurvey imaging data analysis."
   ]
  },
  {
   "cell_type": "code",
   "execution_count": 3,
   "id": "30402b5f-7f3f-4c0e-a42c-c614831d7a07",
   "metadata": {},
   "outputs": [
    {
     "name": "stdout",
     "output_type": "stream",
     "text": [
      "964506\n"
     ]
    }
   ],
   "source": [
    "c20_farmer = Table.read(os.path.join(cosmos_dir, 'COSMOS2020_FARMER_R1_v2.0.fits'))\n",
    "\n",
    "print(len(c20_farmer))"
   ]
  },
  {
   "cell_type": "code",
   "execution_count": 11,
   "id": "86efc9fa-5cc3-47a9-b73d-929bd2d4605a",
   "metadata": {},
   "outputs": [],
   "source": [
    "cols_use = ['ID', 'ID_CLASSIC', 'ALPHA_J2000', 'DELTA_J2000', 'N_GROUP', 'FLAG_HSC', 'FLAG_UVISTA', 'FLAG_COMBINED', 'EBV_MW', \n",
    "            'HSC_g_MAG', 'HSC_g_MAGERR', 'HSC_g_CHISQ', 'HSC_g_VALID', \n",
    "            'HSC_r_MAG', 'HSC_r_MAGERR', 'HSC_r_CHISQ', 'HSC_r_VALID', \n",
    "            'HSC_i_MAG', 'HSC_i_MAGERR', 'HSC_i_CHISQ', 'HSC_i_VALID', \n",
    "            'HSC_z_MAG', 'HSC_z_MAGERR', 'HSC_z_CHISQ', 'HSC_z_VALID', \n",
    "            'HSC_y_MAG', 'HSC_y_MAGERR', 'HSC_y_CHISQ', 'HSC_y_VALID', \n",
    "            'UVISTA_Y_MAG', 'UVISTA_Y_MAGERR', 'UVISTA_Y_CHISQ', 'UVISTA_Y_VALID',\n",
    "            'UVISTA_J_MAG', 'UVISTA_J_MAGERR', 'UVISTA_J_CHISQ', 'UVISTA_J_VALID',\n",
    "            'UVISTA_H_MAG', 'UVISTA_H_MAGERR', 'UVISTA_H_CHISQ', 'UVISTA_H_VALID',\n",
    "            'UVISTA_Ks_MAG', 'UVISTA_Ks_MAGERR', 'UVISTA_Ks_CHISQ', 'UVISTA_Ks_VALID',\n",
    "            'F814W_MAG', 'F814W_MAGERR', \n",
    "            'lp_zBEST', 'lp_type', 'lp_zPDF', 'lp_zPDF_l68', 'lp_zPDF_u68', \n",
    "            'lp_MNUV', 'lp_MU', 'lp_MR', 'lp_MZ', 'lp_MJ', \n",
    "            'lp_mass_med', 'lp_mass_med_min68', 'lp_mass_med_max68', 'lp_mass_best', \n",
    "            'lp_SFR_med', 'lp_SFR_med_min68', 'lp_SFR_med_max68', 'lp_SFR_best', \n",
    "            'lp_sSFR_med', 'lp_sSFR_med_min68', 'lp_sSFR_med_max68', 'lp_sSFR_best',\n",
    "            'ez_z_phot', 'ez_z_phot_chi2', 'ez_z025', 'ez_z160', 'ez_z500', 'ez_z840', 'ez_z975',\n",
    "            'ez_restU', 'ez_restU_err', 'ez_restB', 'ez_restB_err', 'ez_restV', 'ez_restV_err', 'ez_restJ', 'ez_restJ_err',\n",
    "            'ez_ssfr_p025', 'ez_ssfr_p160', 'ez_ssfr_p500', 'ez_ssfr_p840', 'ez_ssfr_p975',\n",
    "            'ez_mass', 'ez_sfr'\n",
    "           ] \n",
    "\n",
    "c20_short = c20_farmer[cols_use]\n",
    "\n",
    "c20_short.rename_column('ALPHA_J2000', 'ra')\n",
    "c20_short.rename_column('DELTA_J2000', 'dec')"
   ]
  },
  {
   "cell_type": "code",
   "execution_count": 49,
   "id": "d4f4b0a4-5cc9-48da-b723-2160d6bf2427",
   "metadata": {},
   "outputs": [
    {
     "name": "stdout",
     "output_type": "stream",
     "text": [
      "958926\n"
     ]
    }
   ],
   "source": [
    "# The HSC masked region\n",
    "c20_hsc = c20_short[c20_short['FLAG_HSC'] == 0]\n",
    "\n",
    "print(len(c20_hsc))"
   ]
  },
  {
   "cell_type": "code",
   "execution_count": 51,
   "id": "4523d9a7-fbb5-4de9-bb7f-6d276d59228c",
   "metadata": {},
   "outputs": [
    {
     "name": "stdout",
     "output_type": "stream",
     "text": [
      "149.22483699123012 150.8130254878658\n",
      "1.5413190011997577 2.8774402606046996\n"
     ]
    }
   ],
   "source": [
    "## RA, Dec boundaries\n",
    "\n",
    "print(c20_hsc['ra'].min(), c20_hsc['ra'].max())\n",
    "print(c20_hsc['dec'].min(), c20_hsc['dec'].max())"
   ]
  },
  {
   "cell_type": "code",
   "execution_count": 52,
   "id": "e36d02a5-d846-4d55-9e11-44ba03a6c03c",
   "metadata": {},
   "outputs": [],
   "source": [
    "c20_hsc.write(os.path.join(cosmos_dir, 'cosmos2020_farmer_hsc_short.fits'))"
   ]
  },
  {
   "cell_type": "code",
   "execution_count": 82,
   "id": "ae6d7237-528a-434a-939e-219606c3edb4",
   "metadata": {},
   "outputs": [
    {
     "name": "stdout",
     "output_type": "stream",
     "text": [
      "674834\n"
     ]
    }
   ],
   "source": [
    "c20_valid = c20_hsc[\n",
    "    np.isfinite(c20_hsc['lp_zBEST']) & np.isfinite(c20_hsc['lp_mass_med']) & \n",
    "    np.isfinite(c20_hsc['lp_SFR_med']) & np.isfinite(c20_hsc['lp_sSFR_med']) &\n",
    "    np.isfinite(c20_hsc['HSC_g_MAG']) & np.isfinite(c20_hsc['HSC_g_MAGERR']) &\n",
    "    np.isfinite(c20_hsc['HSC_r_MAG']) & np.isfinite(c20_hsc['HSC_r_MAGERR']) &\n",
    "    np.isfinite(c20_hsc['HSC_i_MAG']) & np.isfinite(c20_hsc['HSC_i_MAGERR']) &\n",
    "    np.isfinite(c20_hsc['HSC_z_MAG']) & np.isfinite(c20_hsc['HSC_z_MAGERR']) &\n",
    "    np.isfinite(c20_hsc['HSC_y_MAG']) & np.isfinite(c20_hsc['HSC_y_MAGERR'])\n",
    "]\n",
    "\n",
    "print(len(c20_valid))"
   ]
  },
  {
   "cell_type": "code",
   "execution_count": 117,
   "id": "a8cfbad7-ae47-4072-923a-e8b36c9b9f45",
   "metadata": {},
   "outputs": [
    {
     "name": "stdout",
     "output_type": "stream",
     "text": [
      "376\n"
     ]
    }
   ],
   "source": [
    "c20_lowz_massive = c20_valid[\n",
    "    (c20_valid['lp_zPDF_l68'] >= 0.05) & (c20_valid['lp_zPDF_l68'] <= 0.45) &\n",
    "    (c20_valid['lp_mass_med_min68'] >= 10.8) & (c20_valid['lp_mass_med_max68'] <= 12.7)\n",
    "]\n",
    "\n",
    "print(len(c20_lowz_massive))"
   ]
  },
  {
   "cell_type": "code",
   "execution_count": 131,
   "id": "6a37c66b-d642-4f20-bea5-456e03bfbea3",
   "metadata": {},
   "outputs": [
    {
     "name": "stderr",
     "output_type": "stream",
     "text": [
      "/tmp/ipykernel_89889/4209240060.py:5: MatplotlibDeprecationWarning: Auto-removal of grids by pcolor() and pcolormesh() is deprecated since 3.5 and will be removed two minor releases later; please call grid(False) first.\n",
      "  ax.hist2d(\n"
     ]
    },
    {
     "data": {
      "image/png": "[encoded data removed]",
      "text/plain": [
       "<Figure size 504x432 with 1 Axes>"
      ]
     },
     "metadata": {
      "needs_background": "light"
     },
     "output_type": "display_data"
    }
   ],
   "source": [
    "fig = plt.figure(figsize=(7, 6))\n",
    "ax = plt.subplot(111)\n",
    "\n",
    "# 2-D histogram\n",
    "ax.hist2d(\n",
    "    c20_valid['lp_zBEST'], c20_valid['HSC_i_MAG'], \n",
    "    bins=(150, 100), cmin=1, cmap='viridis', norm=mpl.colors.LogNorm())\n",
    "\n",
    "#ax.hist2d(\n",
    "#    decals_good['Z_PHOT_MEAN'], -2.5 * np.log10(decals_good['FLUX_R']) + 22.5, \n",
    "#    bins=(100, 100), cmin=1, cmap='Reds', norm=mpl.colors.LogNorm(), alpha=0.5)\n",
    "\n",
    "ax.scatter(\n",
    "    c20_lowz_massive['lp_zBEST'], c20_lowz_massive['HSC_i_MAG'], s=2, c='orangered', alpha=0.8\n",
    ")\n",
    "\n",
    "ax.grid(linestyle='--', linewidth=2, alpha=0.6)\n",
    "\n",
    "_ = ax.set_xlim(-0.05, 5.5)\n",
    "_ = ax.set_ylim(14.9, 32.9)\n",
    "\n",
    "_ = ax.set_xlabel(r'$\\rm Redshift$', fontsize=25)\n",
    "_ = ax.set_ylabel(r'$i_{\\rm HSC}\\ [\\rm mag]$', fontsize=25)"
   ]
  },
  {
   "cell_type": "code",
   "execution_count": 123,
   "id": "7057c125-0ab7-4755-9a74-f7f69aa16653",
   "metadata": {},
   "outputs": [
    {
     "name": "stdout",
     "output_type": "stream",
     "text": [
      "23.187655772558237 0.02777572578857945\n",
      "21.582617360579512 0.06458261765716249\n",
      "20.766340460014433 0.09073359073359073\n",
      "20.27679095876296 0.11104548139397519\n"
     ]
    }
   ],
   "source": [
    "print(c20_lowz_massive['HSC_g_MAG'].max(), len(c20_lowz_massive) / (c20_valid['HSC_g_MAG'] <= c20_lowz_massive['HSC_g_MAG'].max()).sum())\n",
    "print(c20_lowz_massive['HSC_r_MAG'].max(), len(c20_lowz_massive) / (c20_valid['HSC_r_MAG'] <= c20_lowz_massive['HSC_r_MAG'].max()).sum())\n",
    "print(c20_lowz_massive['HSC_i_MAG'].max(), len(c20_lowz_massive) / (c20_valid['HSC_i_MAG'] <= c20_lowz_massive['HSC_i_MAG'].max()).sum())\n",
    "print(c20_lowz_massive['HSC_z_MAG'].max(), len(c20_lowz_massive) / (c20_valid['HSC_z_MAG'] <= c20_lowz_massive['HSC_z_MAG'].max()).sum())"
   ]
  },
  {
   "cell_type": "code",
   "execution_count": 132,
   "id": "f402393e-b39b-45c7-925a-1f4245b1fce9",
   "metadata": {},
   "outputs": [],
   "source": [
    "gr_valid = c20_valid['HSC_g_MAG'] - c20_valid['HSC_r_MAG']\n",
    "rz_valid = c20_valid['HSC_r_MAG'] - c20_valid['HSC_z_MAG']\n",
    "gz_valid = c20_valid['HSC_g_MAG'] - c20_valid['HSC_z_MAG']\n",
    "\n",
    "gr_lowz_massive = c20_lowz_massive['HSC_g_MAG'] - c20_lowz_massive['HSC_r_MAG']\n",
    "rz_lowz_massive = c20_lowz_massive['HSC_r_MAG'] - c20_lowz_massive['HSC_z_MAG']\n",
    "gz_lowz_massive = c20_lowz_massive['HSC_g_MAG'] - c20_lowz_massive['HSC_z_MAG']"
   ]
  },
  {
   "cell_type": "code",
   "execution_count": 181,
   "id": "9dcd44f4-e5ad-4dd3-b271-97df48295707",
   "metadata": {},
   "outputs": [
    {
     "name": "stdout",
     "output_type": "stream",
     "text": [
      "0.9271752545430443 2.0621687835566895\n",
      "1.6533307511995918 3.3133094011228845\n",
      "0.6345069834111415 1.3006927594449045\n"
     ]
    }
   ],
   "source": [
    "_, gr_low, gr_upp = sigma_clip(gr_lowz_massive, sigma_lower=3, sigma_upper=3, maxiters=5, masked=False, return_bounds=True)\n",
    "_, gz_low, gz_upp = sigma_clip(gz_lowz_massive, sigma_lower=3, sigma_upper=3, maxiters=5, masked=False, return_bounds=True)\n",
    "_, rz_low, rz_upp = sigma_clip(rz_lowz_massive, sigma_lower=3, sigma_upper=3, maxiters=5, masked=False, return_bounds=True)\n",
    "\n",
    "print(gr_low, gr_upp)\n",
    "print(gz_low, gz_upp)\n",
    "print(rz_low, rz_upp)"
   ]
  },
  {
   "cell_type": "code",
   "execution_count": 182,
   "id": "9d074410-1cc9-4077-b01c-c8a433c5e316",
   "metadata": {},
   "outputs": [
    {
     "name": "stderr",
     "output_type": "stream",
     "text": [
      "/tmp/ipykernel_89889/489291254.py:5: MatplotlibDeprecationWarning: Auto-removal of grids by pcolor() and pcolormesh() is deprecated since 3.5 and will be removed two minor releases later; please call grid(False) first.\n",
      "  ax.hist2d(\n"
     ]
    },
    {
     "data": {
      "image/png": "[encoded data removed]",
      "text/plain": [
       "<Figure size 504x504 with 1 Axes>"
      ]
     },
     "metadata": {
      "needs_background": "light"
     },
     "output_type": "display_data"
    }
   ],
   "source": [
    "fig = plt.figure(figsize=(7, 7))\n",
    "ax = plt.subplot(111)\n",
    "\n",
    "# 2-D histogram\n",
    "ax.hist2d(\n",
    "    gr_valid[(c20_valid['HSC_r_MAG'] <= c20_lowz_massive['HSC_r_MAG'].max())], rz_valid[(c20_valid['HSC_r_MAG'] <= c20_lowz_massive['HSC_r_MAG'].max())], \n",
    "    bins=(150, 100), cmin=1, cmap='viridis', norm=mpl.colors.LogNorm())\n",
    "\n",
    "#ax.hist2d(\n",
    "#    decals_good['Z_PHOT_MEAN'], -2.5 * np.log10(decals_good['FLUX_R']) + 22.5, \n",
    "#    bins=(100, 100), cmin=1, cmap='Reds', norm=mpl.colors.LogNorm(), alpha=0.5)\n",
    "\n",
    "ax.scatter(\n",
    "    gr_lowz_massive, rz_lowz_massive,\n",
    "    s=2, c='orangered', alpha=0.5\n",
    ")\n",
    "\n",
    "ax.axvline(gr_low, c='skyblue', lw=3, ls='--')\n",
    "ax.axvline(gr_upp, c='skyblue', lw=3, ls='--')\n",
    "ax.axhline(rz_low, c='skyblue', lw=3, ls='--')\n",
    "ax.axhline(rz_upp, c='skyblue', lw=3, ls='--')\n",
    "\n",
    "ax.grid(linestyle='--', linewidth=2, alpha=0.6)\n",
    "\n",
    "_ = ax.set_xlim(-2.9, 5.9)\n",
    "_ = ax.set_ylim(-2.9, 5.9)\n",
    "\n",
    "_ = ax.set_xlabel(r'$g-r \\ [\\rm mag]$', fontsize=25)\n",
    "_ = ax.set_ylabel(r'$r-z \\ [\\rm mag]$', fontsize=25)"
   ]
  },
  {
   "cell_type": "code",
   "execution_count": 180,
   "id": "da644628-9162-433d-a724-124fb89329ac",
   "metadata": {},
   "outputs": [
    {
     "name": "stdout",
     "output_type": "stream",
     "text": [
      " 101949  150.4773    2.7976\n",
      " 155225  150.4647    2.7201\n",
      " 170745  150.5662    2.4726\n",
      " 194530  149.6949    2.2207\n",
      " 291030  149.5094    2.2319\n",
      " 363766  149.8767    2.4036\n",
      " 385457  149.7884    2.2271\n",
      " 394257  150.3476    2.1483\n",
      " 401128  150.0511    1.9894\n",
      " 427483  150.4238    2.7393\n",
      " 427786  149.8599    2.1488\n",
      " 432763  149.9392    1.7574\n",
      " 591672  150.2163    1.7418\n",
      " 621178  150.7702    2.4192\n",
      " 628319  150.4131    1.7619\n",
      " 711622  150.1929    1.7524\n",
      " 801514  150.3834    2.4303\n",
      " 824201  150.1251    1.6169\n",
      " 842333  150.4832    1.7782\n",
      " 861184  149.9080    2.6089\n",
      " 906028  149.8271    2.1893\n",
      " 923158  150.1740    1.6119\n",
      " 950981  150.1295    1.9563\n"
     ]
    }
   ],
   "source": [
    "temp = c20_lowz_massive[gz_lowz_massive < gz_low]\n",
    "\n",
    "_ = [print(\"{:7d}  {:8.4f}  {:8.4f}\".format(obj['ID'], obj['ra'], obj['dec'])) for obj in temp]"
   ]
  },
  {
   "cell_type": "code",
   "execution_count": 173,
   "id": "432cbb46-980d-415b-85e1-a0db8a4ff1c1",
   "metadata": {},
   "outputs": [
    {
     "data": {
      "image/png": "[encoded data removed]",
      "text/plain": [
       "<Figure size 432x288 with 1 Axes>"
      ]
     },
     "metadata": {
      "needs_background": "light"
     },
     "output_type": "display_data"
    }
   ],
   "source": [
    "_ = plt.hist(gz_lowz_massive)"
   ]
  },
  {
   "cell_type": "code",
   "execution_count": null,
   "id": "2fcab1a9-bbe8-418e-b2e0-e3c521a9b483",
   "metadata": {},
   "outputs": [],
   "source": []
  },
  {
   "cell_type": "markdown",
   "id": "a9b7f764-9f41-43a0-b8f3-e642b8f66a41",
   "metadata": {},
   "source": [
    "## Estimating Object Number and Density in COSMOS\n",
    "\n",
    "### Number Counts\n",
    "\n",
    "- Fig 11 in the paper shows the number count statistics in the 1.403/1.234 deg$^2$ region of the HSC-masked UltraVista region for the `CLASSIC` and `FARMER` catalogs.\n",
    "    - For the i-band selected sample, there are $10^{4.03}$ galaxies per magnitude per square deg at $i<21.75$ AB mag; $10^{3.66}$ galaxies per magnitude per square deg at $i<20.75$ AB mag.\n",
    "    \n",
    "#### Compared to DESI:\n",
    "\n",
    "- BGS Bright $r < 19.5$ mag; ~800 deg$-2$.\n",
    "- BGS Faint $19.5 < r < 20$ mag; ~600 deg$-2$.\n",
    "- LRG: for DECaLS, the magnitude cut is $z_{\\rm fiber} < 21.5$ mag; ~600 deg$-2$.\n",
    "- ELG: for DECaLS, the magnitude cut is $20 < g < 23.5$ mag; ~2400 deg$-2$\n",
    "\n",
    "#### Compared to 4MOST\n",
    "\n",
    "- Galaxy Clusters: $18.0 < r < 22.0$ mag; 1.7M targets\n",
    "- AGN: $18.0 < r < 22.8$ mag; 1.0M targets\n",
    "    - Covers 10000 deg$^2$; \n",
    "    - Density: ~90 (200) deg$^{-2}$ for X-ray wide (deep) survey; ~20 deg$^{-2}$ for IR wide survey; ~4 deg$^{-2}$ for high-z QSOs.\n",
    "- WAVES: $18.0 < r < 22.5$ mag; 1.6M targets\n",
    "    - In ~1200 deg$^2$ for Wide; and ~70 deg^2 for Deep\n",
    "    - Wide: $Z < 21.1$ mag and $z_{\\rm photo} \\leq 0.2$; ~0.9M galaxies; ~750 deg$^{-2}$\n",
    "    - Deep: $Z < 21.25$ mag and $z_{\\rm photo} \\leq 0.8$; ~0.75M galaxies; ~11000 deg$^{-2}$\n",
    "        - Deep fields include GAMA23; ELAIS-S; XMMLSS; ECDFS; E-COSMOS\n",
    "- Cosmology: $20.0 < r < 23.9$ mag; 8M targets: \n",
    "    - 7500 deg$^2$ for BG; LRG; QSO; ~1000 deg $^2$ for ELG\n",
    "    - BG: $0.15 < z < 0.4$; $16 < J < 18$ mag or $R \\sim 20.2$ mag; ~250 deg$^{-2}$; 95% complete\n",
    "    - LRG: $0.4 < z < 0.7$; $18 < J < 19.5$ mag or $R \\sim 21.8$ mag; ~400 deg$^{-2}$; 75% complete\n",
    "    - ELG: $0.6 < z < 1.1$; $21 < g < 23.2$ mag or $R \\sim 23.9$ mag; ~1200 deg$^{-2}$; 80% complete\n",
    "    - QSO: $0.9 < z < 2.2$; $g < 22.5$ mag or $r \\sim 22.2$ mag; ~190 deg$^{-2}$; 65% complete\n",
    "    - QSO-Ly$\\alpha$: $2.2 < z < 3.5$; $r < 22.7$ mag or $r \\sim 22.2$ mag; ~50 deg$^{-2}$; 90% complete\n",
    "\n",
    "#### Compared to WEAVE\n",
    "\n",
    "- [WEAVE-QSO survey](https://www.cefca.es/doc/general_page/160/talks/WEAVE-QSO_Pieri_short.pdf): ~350K Ly$\\alpha$ ($z>2$) QSO over ~6000 deg$^2$\n",
    "    - **Unclear whether this is still on-going**\n",
    "    - BAO measurement is better than DESI at $z>2$\n",
    "    - Target selection based on J-PAS, which will be ~100% complete for $r \\sim 23.2$ mag Ly$\\alpha$ forrest QSOs.\n",
    "    - Also work with HETDEX\n",
    "    - Get all Ly$\\alpha$ forrest QSOs at $r < 21$ mag.\n",
    "- [WEAVE-LOFAR survey](https://arxiv.org/pdf/1611.02706.pdf)\n",
    "    - Spectra of $\\sim 10^6$ low-frequency selected radio sources\n",
    "- WEAVE-Apertif survey:\n",
    "    - LIFU follow-up of HI detected systems\n",
    "- WEAVE nearby galaxy cluster survey by J.Alfonso & L.Aguerri (IAC)\n",
    "    - **Note sure if there is any progress**.\n",
    "    \n",
    "#### Compared to PFS\n",
    "\n",
    "- Based on Takada et al. (2014), very preliminary.\n",
    "\n",
    "- ELGs for cosmology: $0.6 < z < 2.4$, $22.8 < g < 24.2$ AB mag; >2900 deg$^{-2}$\n",
    "- Galaxy Evolution Survey: 16 deg$^2$ of HSC Deep, reaching $J = 23.4$ AB mag.\n",
    "    - $J < 21$ mag for $z<1$: ~6000 deg$^{-2}$\n",
    "    - $21 < J < 22$ mag for $1 < z< 2$: ~1500 deg$^{-2}$\n",
    "    - $22 < J < 23$ mag for $1 < z< 2$: ~8400 deg$^{-2}$\n",
    "    - $23 < J < 23.4$ mag for $1 < z< 2$: ~12000 deg$^{-2}$\n",
    "    - $J < 23.4$ mag for $z<2$: ~47000 deg$^{-2}$ but only for 2.6 deg$^2$ Ultra-Deep field\n",
    "    - $i = 24$ LBGs at $2 < z < 3$: ~4600 deg$^{-2}$.\n",
    "    - $i = 25$ LBGs at $3 < z < 4$: ~840 deg$^{-2}$.\n",
    "    - $i = 26$ LBGs at $4 < z < 6$: ~100 deg$^{-2}$.\n",
    "    \n",
    "#### Compared to MOONS\n",
    "\n",
    "- [MOONRISE: GTO Extragalactic Survey](https://arxiv.org/pdf/2009.00644.pdf)\n",
    "    - 1 deg$^2$ in COSMOS; 3-6 deg$^2$ in two other fields.\n",
    "    - Two observing modes: Xswitch and Stare:\n",
    "        - Xswitch: 400 pairs of fibers on targets or sky in nodding mode; 207800 objects in 4 deg$^2$.\n",
    "        - Stare: 900 pairs of fibers on targets; 461700 objects in 7 deg$^2$.\n",
    "    - $0.9 < z < 1.1$: $H <23.0$ AB mag for $\\log M_{\\star} > 9.5$ galaxies \n",
    "    - $1.2 < z < 1.7$: $H <23.5$ AB mag for $\\log M_{\\star} > 9.5$ galaxies \n",
    "    - $2.0 < z < 2.6$: $H <24.0$ AB mag for $\\log M_{\\star} > 10.0$ galaxies\n",
    "    - $z > 5$: $H < 26$ AB mag; about 2000 galaxies"
   ]
  },
  {
   "cell_type": "code",
   "execution_count": 28,
   "id": "5331b521-d33b-4052-8d18-5cb3da72497a",
   "metadata": {},
   "outputs": [
    {
     "name": "stdout",
     "output_type": "stream",
     "text": [
      "746976\n"
     ]
    }
   ],
   "source": [
    "# Only use the objects in the HSC-masked Ultra-Vista region\n",
    "\n",
    "c20_use = c20_short[c20_short['FLAG_COMBINED'] == 0]\n",
    "\n",
    "print(len(c20_use))"
   ]
  },
  {
   "cell_type": "code",
   "execution_count": 31,
   "id": "48648332-68e8-4736-907f-6e567d36a928",
   "metadata": {},
   "outputs": [
    {
     "name": "stderr",
     "output_type": "stream",
     "text": [
      "/tmp/ipykernel_89889/2206918441.py:1: MatplotlibDeprecationWarning: Auto-removal of grids by pcolor() and pcolormesh() is deprecated since 3.5 and will be removed two minor releases later; please call grid(False) first.\n",
      "  _ = plt.hist2d(c20_use['ra'], c20_use['dec'], bins=(100, 100))\n"
     ]
    },
    {
     "data": {
      "image/png": "[encoded data removed]",
      "text/plain": [
       "<Figure size 432x288 with 1 Axes>"
      ]
     },
     "metadata": {
      "needs_background": "light"
     },
     "output_type": "display_data"
    }
   ],
   "source": [
    "_ = plt.hist2d(c20_use['ra'], c20_use['dec'], bins=(100, 100))"
   ]
  },
  {
   "cell_type": "code",
   "execution_count": 32,
   "id": "17b4ae25-eb3a-4b4a-b305-de85204e6298",
   "metadata": {},
   "outputs": [],
   "source": [
    "c20_use.write(os.path.join(cosmos_dir, 'cosmos2020_farmer_combined_short.fits'))"
   ]
  },
  {
   "cell_type": "code",
   "execution_count": 39,
   "id": "e900e2a4-e61e-433e-a29e-99d2f118bdb2",
   "metadata": {},
   "outputs": [
    {
     "name": "stdout",
     "output_type": "stream",
     "text": [
      "712476 685165\n"
     ]
    }
   ],
   "source": [
    "lp_flag = (\n",
    "    np.isfinite(c20_use['lp_zBEST']) & np.isfinite(c20_use['lp_mass_med']) & \n",
    "    np.isfinite(c20_use['lp_SFR_med']) & np.isfinite(c20_use['lp_sSFR_med'])\n",
    ")\n",
    "\n",
    "hsc_flag = (\n",
    "    np.isfinite(c20_use['HSC_g_MAG']) & np.isfinite(c20_use['HSC_g_MAGERR']) &\n",
    "    np.isfinite(c20_use['HSC_r_MAG']) & np.isfinite(c20_use['HSC_r_MAGERR']) &\n",
    "    np.isfinite(c20_use['HSC_i_MAG']) & np.isfinite(c20_use['HSC_i_MAGERR']) &\n",
    "    np.isfinite(c20_use['HSC_z_MAG']) & np.isfinite(c20_use['HSC_z_MAGERR']) &\n",
    "    np.isfinite(c20_use['HSC_y_MAG']) & np.isfinite(c20_use['HSC_y_MAGERR'])\n",
    ")\n",
    "\n",
    "print(lp_flag.sum(), hsc_flag.sum())"
   ]
  },
  {
   "cell_type": "code",
   "execution_count": 42,
   "id": "8108855a-517f-4cac-ac74-bd782eebd908",
   "metadata": {},
   "outputs": [
    {
     "name": "stderr",
     "output_type": "stream",
     "text": [
      "/tmp/ipykernel_89889/3616463529.py:1: MatplotlibDeprecationWarning: Auto-removal of grids by pcolor() and pcolormesh() is deprecated since 3.5 and will be removed two minor releases later; please call grid(False) first.\n",
      "  _ = plt.hist2d(c20_use[lp_flag & hsc_flag]['lp_zBEST'], c20_use[lp_flag & hsc_flag]['HSC_r_MAG'], bins=(300, 100))\n"
     ]
    },
    {
     "data": {
      "image/png": "[encoded data removed]",
      "text/plain": [
       "<Figure size 432x288 with 1 Axes>"
      ]
     },
     "metadata": {
      "needs_background": "light"
     },
     "output_type": "display_data"
    }
   ],
   "source": [
    "_ = plt.hist2d(c20_use[lp_flag & hsc_flag]['lp_zBEST'], c20_use[lp_flag & hsc_flag]['HSC_r_MAG'], bins=(300, 100))\n",
    "\n",
    "_ = plt.xlim(0.0, 2.2)"
   ]
  },
  {
   "cell_type": "code",
   "execution_count": 45,
   "id": "8bf79b8b-9ccb-4812-ab0b-784ad76d9b85",
   "metadata": {},
   "outputs": [
    {
     "data": {
      "text/plain": [
       "array([20. , 20.5, 21. , 21.5, 22. , 22.5, 23. , 23.5, 24. , 24.5])"
      ]
     },
     "execution_count": 45,
     "metadata": {},
     "output_type": "execute_result"
    }
   ],
   "source": [
    "np.linspace(20.0, 24.5, 10)"
   ]
  },
  {
   "cell_type": "code",
   "execution_count": 47,
   "id": "c7871021-4344-4e1e-a508-b70131b69df6",
   "metadata": {},
   "outputs": [
    {
     "data": {
      "text/plain": [
       "(array([ 1365,  2231,  3782,  5830,  9103, 13378, 19554, 28360, 40170]),\n",
       " array([20. , 20.5, 21. , 21.5, 22. , 22.5, 23. , 23.5, 24. , 24.5]))"
      ]
     },
     "execution_count": 47,
     "metadata": {},
     "output_type": "execute_result"
    }
   ],
   "source": [
    "np.histogram(c20_use[lp_flag & hsc_flag]['HSC_i_MAG'], bins=np.linspace(20.0, 24.5, 10))"
   ]
  },
  {
   "cell_type": "code",
   "execution_count": null,
   "id": "df3e2fb6-b389-4b29-a4d5-9d11395d3b6a",
   "metadata": {},
   "outputs": [],
   "source": []
  }
 ],
 "metadata": {
  "kernelspec": {
   "display_name": "Python 3 (ipykernel)",
   "language": "python",
   "name": "python3"
  },
  "language_info": {
   "codemirror_mode": {
    "name": "ipython",
    "version": 3
   },
   "file_extension": ".py",
   "mimetype": "text/x-python",
   "name": "python",
   "nbconvert_exporter": "python",
   "pygments_lexer": "ipython3",
   "version": "3.8.8"
  }
 },
 "nbformat": 4,
 "nbformat_minor": 5
}
