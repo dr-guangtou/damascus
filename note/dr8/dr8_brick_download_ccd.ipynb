{
 "cells": [
  {
   "cell_type": "code",
   "execution_count": 101,
   "metadata": {},
   "outputs": [
    {
     "name": "stdout",
     "output_type": "stream",
     "text": [
      "The autoreload extension is already loaded. To reload it, use:\n",
      "  %reload_ext autoreload\n"
     ]
    }
   ],
   "source": [
    "%matplotlib inline\n",
    "%load_ext autoreload\n",
    "%autoreload 2\n",
    "\n",
    "import os\n",
    "import sys\n",
    "import copy \n",
    "import pickle\n",
    "import requests\n",
    "\n",
    "import urllib3\n",
    "\n",
    "import numpy as np \n",
    "import matplotlib.pyplot as plt\n",
    "\n",
    "from astropy.io import fits\n",
    "from astropy.table import Table"
   ]
  },
  {
   "cell_type": "code",
   "execution_count": 4,
   "metadata": {},
   "outputs": [
    {
     "name": "stdout",
     "output_type": "stream",
     "text": [
      "64\n"
     ]
    }
   ],
   "source": [
    "data_dir = '/Users/song/Downloads/merian'\n",
    "\n",
    "brick_file = 'legacysurvey-1933m005-ccds.fits'\n",
    "\n",
    "ccd_cat = Table.read(os.path.join(data_dir, brick_file))\n",
    "\n",
    "print(len(ccd_cat))"
   ]
  },
  {
   "cell_type": "code",
   "execution_count": 129,
   "metadata": {},
   "outputs": [],
   "source": [
    "class Brick(object):\n",
    "    '''A base class containing codes to handle data for a DECaLS brick.\n",
    "    \n",
    "    '''\n",
    "    LEGACY_DATA = \"https://portal.nersc.gov/project/cosmo/data/legacysurvey\"\n",
    "    LEGACY_VIEW = \"https://www.legacysurvey.org/viewer\"\n",
    "    \n",
    "    def __init__(self, brick_id, dr=8):\n",
    "        '''\n",
    "        Creat a Brick object based on the brick ID.\n",
    "        \n",
    "        Brick ID has the format <AAAa>c<BBB> where A, a and B are digits and c is either the letter m or p (e.g. 1126p222). \n",
    "        The names are derived from the (RA, Dec) center of the brick. The first four digits are int(RA×10), \n",
    "        followed by p to denote positive Dec or m to denote negative Dec (\"plus\"/\"minus\"), followed by three digits of int(Dec×10). \n",
    "        For example the case 1126p222 corresponds to (RA, Dec) = (112.6°, +22.2°).\n",
    "        \n",
    "        Image stacks are on tangent-plane (WCS TAN) projections, 3600 × 3600 pixels, at 0.262 arcseconds per pixel.\n",
    "        '''\n",
    "        self.id = brick_id\n",
    "        \n",
    "        # Directory that stores all the coadd data\n",
    "        self.coadd_url = self.LEGACY_DATA + \"/dr{:d}/south/coadd/{:s}/{:s}/\".format(\n",
    "            int(dr), self.id[0:3], self.id)\n",
    "        \n",
    "        # API to get the CCD data\n",
    "        self.ccd_img_api = self.LEGACY_VIEW + '/image-data/ls-dr{:d}/'.format(int(dr))\n",
    "        self.ccd_var_api = self.LEGACY_VIEW + '/iv-data/ls-dr{:d}/'.format(int(dr))\n",
    "        self.ccd_msk_api = self.LEGACY_VIEW + '/dq-data/ls-dr{:d}/'.format(int(dr))\n",
    "        \n",
    "        # URL of the CCD catalog\n",
    "        self.ccd_cat_url = self.coadd_url + \"legacysurvey-{:s}-ccds.fits\".format(self.id)\n",
    "        self.ccd_cat = Table(fits.open(self.ccd_cat_url)[1].data)\n",
    "        self.ccd_num = len(self.ccd_cat) \n",
    "    \n",
    "    def _download_fits(self, url, output, overwrite=True):\n",
    "        '''Download a FITS file from the LegacySurvey directory.'''\n",
    "        # Check whether the file exists\n",
    "        r = requests.head(url)\n",
    "        if r.status_code == requests.codes.ok:\n",
    "            _ = fits.open(url).writeto(output, overwrite=overwrite)\n",
    "            return True\n",
    "        else:\n",
    "            print(\"# Can not download file: {:s}\".format(url))\n",
    "            return False\n",
    "    \n",
    "    def _download_jpg(self, url, output):\n",
    "        '''Download a JPG figure.'''\n",
    "        r = requests.head(url)\n",
    "        if r.status_code == requests.codes.ok:\n",
    "            img_data = requests.get(url).content\n",
    "            with open(output, 'wb') as handler:\n",
    "                handler.write(img_data)\n",
    "            return True\n",
    "        else:\n",
    "            print(\"# Can not download file: {:s}\".format(url))\n",
    "            return False\n",
    "        \n",
    "    def download_coadd(self, file_type, loc, fz=True, suffix=None):\n",
    "        '''Download a coadd data product for the brick.'''\n",
    "        if suffix is None:\n",
    "            suffix = 'fits.fz' if fz else 'fits'\n",
    "        file_name = \"legacysurvey-{:s}-{:s}.{:s}\".format(self.id, file_type, suffix)\n",
    "        output = os.path.join(loc, file_name)\n",
    "        \n",
    "        if 'fits' in suffix:\n",
    "            _ = self._download_fits(self.coadd_url + file_name, output)\n",
    "        elif 'jpg' in suffix:\n",
    "            _ = self._download_jpg(self.coadd_url + file_name, output)\n",
    "        else:\n",
    "            raise Exception(\"Wrong suffix. Either fits/fits.fz or jpg.\")\n",
    "        \n",
    "    def download_ccd(self, ccd, loc):\n",
    "        '''Download the reduced image, variance, and mask for one CCD.'''\n",
    "        ccd_str = \"{:s}-{:d}-{:s}-{:s}\".format(\n",
    "            ccd['camera'].strip(), ccd['expnum'], ccd['ccdname'].strip(), ccd['filter'])\n",
    "        \n",
    "        _ = self._download_fits(self.ccd_img_api + ccd_str, os.path.join(loc, ccd_str + '_img.fits'))\n",
    "        _ = self._download_fits(self.ccd_var_api + ccd_str, os.path.join(loc, ccd_str + '_var.fits'))\n",
    "        _ = self._download_fits(self.ccd_msk_api + ccd_str, os.path.join(loc, ccd_str + '_msk.fits'))\n",
    "    \n",
    "    def get_decam_coadd(self, loc, model=False):\n",
    "        '''Get all the basic DECam coadd images for the brick.'''\n",
    "        # Get the image, invarance, and model images\n",
    "        if model:\n",
    "            file_types = ['image', 'invvar', 'model']\n",
    "        else:\n",
    "            file_types = ['image', 'invvar']\n",
    "        filters = ['g', 'r', 'z']\n",
    "        \n",
    "        if not os.path.exists(loc):\n",
    "            os.makedirs(loc, exist_ok=True)\n",
    "        \n",
    "        for filt_type in ['{:s}-{:s}'.format(t, f) for t in file_types for f in filters]:\n",
    "            _ = self.download_coadd(filt_type, loc, fz=True)\n",
    "        \n",
    "        # Download the maskbits file\n",
    "        _ = self.download_coadd('maskbits', loc, fz=True)\n",
    "        \n",
    "        # Download the JPG figure\n",
    "        _ = self.download_coadd('image', loc, suffix='jpg')\n",
    "        _ = self.download_coadd('model', loc, suffix='jpg')\n",
    "    \n",
    "    def get_decam_ccds(self, loc, band=None):\n",
    "        '''Download the CCD data.'''\n",
    "        if not os.path.exists(loc):\n",
    "            os.makedirs(loc, exist_ok=True)\n",
    "            \n",
    "        if band is not None and band.strip() in ['g', 'r', 'z']:\n",
    "            ccd_use = self.ccd_cat[self.ccd_cat['filter'] == band.strip()]\n",
    "            if len(ccd_use) > 0:\n",
    "                for ccd in ccd_use:\n",
    "                    _ = self.download_ccd(ccd, loc)\n",
    "        else:\n",
    "            for ccd in self.ccd_cat:\n",
    "                _ = self.download_ccd(ccd, loc)\n",
    "        \n",
    "    def save_ccd_cat(self, loc):\n",
    "        '''Save the CCD catalog to a FITS file.'''\n",
    "        cat_name = \"legacysurvey-{:s}-ccds.fits\".format(self.id)\n",
    "        self.ccd_cat.write(os.path.join(loc, cat_name), overwrite=True)\n",
    "    \n",
    "        \n",
    "    "
   ]
  },
  {
   "cell_type": "code",
   "execution_count": 130,
   "metadata": {},
   "outputs": [],
   "source": [
    "brick_id = '1933m005'\n",
    "\n",
    "data_dir = '/Users/song/Downloads/merian'\n",
    "\n",
    "brick_loc = os.path.join(data_dir, brick_id)"
   ]
  },
  {
   "cell_type": "code",
   "execution_count": 131,
   "metadata": {},
   "outputs": [],
   "source": [
    "brick_test = Brick(brick_id)"
   ]
  },
  {
   "cell_type": "code",
   "execution_count": 118,
   "metadata": {},
   "outputs": [],
   "source": [
    "brick_test.get_decam_coadd(os.path.join(brick_loc, 'coadd'), model=True)"
   ]
  },
  {
   "cell_type": "code",
   "execution_count": 122,
   "metadata": {},
   "outputs": [],
   "source": [
    "brick_test.save_ccd_cat(brick_loc)"
   ]
  },
  {
   "cell_type": "code",
   "execution_count": 132,
   "metadata": {},
   "outputs": [],
   "source": [
    "brick_test.get_decam_ccds(os.path.join(brick_loc, 'ccd', 'g'), band='g')"
   ]
  },
  {
   "cell_type": "code",
   "execution_count": 133,
   "metadata": {},
   "outputs": [],
   "source": [
    "brick_test.get_decam_ccds(os.path.join(brick_loc, 'ccd', 'r'), band='r')"
   ]
  },
  {
   "cell_type": "code",
   "execution_count": 134,
   "metadata": {},
   "outputs": [],
   "source": [
    "brick_test.get_decam_ccds(os.path.join(brick_loc, 'ccd', 'z'), band='z')"
   ]
  },
  {
   "cell_type": "code",
   "execution_count": null,
   "metadata": {},
   "outputs": [],
   "source": []
  }
 ],
 "metadata": {
  "kernelspec": {
   "display_name": "Python 3",
   "language": "python",
   "name": "python3"
  },
  "language_info": {
   "codemirror_mode": {
    "name": "ipython",
    "version": 3
   },
   "file_extension": ".py",
   "mimetype": "text/x-python",
   "name": "python",
   "nbconvert_exporter": "python",
   "pygments_lexer": "ipython3",
   "version": "3.8.6"
  }
 },
 "nbformat": 4,
 "nbformat_minor": 4
}
